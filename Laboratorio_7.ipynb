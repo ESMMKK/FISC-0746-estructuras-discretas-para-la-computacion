{
  "nbformat": 4,
  "nbformat_minor": 0,
  "metadata": {
    "colab": {
      "name": " Laboratorio 7.ipynb",
      "version": "0.3.2",
      "provenance": [],
      "collapsed_sections": [],
      "include_colab_link": true
    },
    "kernelspec": {
      "name": "python3",
      "display_name": "Python 3"
    }
  },
  "cells": [
    {
      "cell_type": "markdown",
      "metadata": {
        "id": "view-in-github",
        "colab_type": "text"
      },
      "source": [
        "<a href=\"https://colab.research.google.com/github/ESMMKK/FISC-0746-estructuras-discretas-para-la-computacion/blob/master/Laboratorio_7.ipynb\" target=\"_parent\"><img src=\"https://colab.research.google.com/assets/colab-badge.svg\" alt=\"Open In Colab\"/></a>"
      ]
    },
    {
      "cell_type": "markdown",
      "metadata": {
        "id": "Oc855L6Qf_3m",
        "colab_type": "text"
      },
      "source": [
        "# Laboratorio 7\n",
        "## 1. Crear funcion que guarde una lista de numeros enteros y retorne el numero mayor.\n",
        "## 2. Lista debe ordenarse de manera descendente.\n",
        "## 3. Una funcion que regrese true si el numero es divisible entre 7 y no es multiplo por 5.\n",
        "## 4. True si el numero es un numero primo"
      ]
    },
    {
      "cell_type": "markdown",
      "metadata": {
        "id": "hft-OV7fZQJF",
        "colab_type": "text"
      },
      "source": [
        "##Problema 1"
      ]
    },
    {
      "cell_type": "code",
      "metadata": {
        "id": "G-foG-OSgcCf",
        "colab_type": "code",
        "colab": {}
      },
      "source": [
        "def lista(n):\n",
        "  Ar1=[]\n",
        "  Mayor=0\n",
        "  for i in range(n):\n",
        "    elemento=int(input(\"Ingrese un valor a la lista:\"))\n",
        "    Ar1.append(elemento)\n",
        "  Mayor=Ar1[0]\n",
        "  for i in range(1,len(Ar1)):\n",
        "        if Ar1[i]>Mayor:\n",
        "            Mayor=Ar1[i]               \n",
        "  return print(\"El numero mayor es: \" +str (Mayor))"
      ],
      "execution_count": 0,
      "outputs": []
    },
    {
      "cell_type": "code",
      "metadata": {
        "id": "BGXcPemTkaot",
        "colab_type": "code",
        "colab": {
          "base_uri": "https://localhost:8080/",
          "height": 136
        },
        "outputId": "335d1ca1-a062-468a-ba2f-dc8f0c36c774"
      },
      "source": [
        "print(\"Cuantos elmentos desea cargar a la lista:\" )\n",
        "n = input()\n",
        "lista(int(n))"
      ],
      "execution_count": 2,
      "outputs": [
        {
          "output_type": "stream",
          "text": [
            "Cuantos elmentos desea cargar a la lista:\n",
            "4\n",
            "Ingrese un valor a la lista:1\n",
            "Ingrese un valor a la lista:2\n",
            "Ingrese un valor a la lista:3\n",
            "Ingrese un valor a la lista:5\n",
            "El numero mayor es: 5\n"
          ],
          "name": "stdout"
        }
      ]
    },
    {
      "cell_type": "markdown",
      "metadata": {
        "id": "tYUKmbuCZWsx",
        "colab_type": "text"
      },
      "source": [
        "## Problema 2"
      ]
    },
    {
      "cell_type": "code",
      "metadata": {
        "id": "BOdnuib7w0x_",
        "colab_type": "code",
        "colab": {}
      },
      "source": [
        "def listaOrdenada(n2):\n",
        "  Ar2=[]\n",
        "  for i in range(n2):\n",
        "    elemento2=int(input(\"Ingrese un valor a la lista:\"))\n",
        "    Ar2.append(elemento2)\n",
        "  for f in range(0,n2):\n",
        "    min=f\n",
        "    for f2 in range(f+1,n2):\n",
        "      if Ar2[f2]<Ar2[min]:\n",
        "        min=f2\n",
        "    temp=Ar2[f]\n",
        "    Ar2[f]=Ar2[min]\n",
        "    Ar2[min]=temp\n",
        "  print(\"Los Numeros Ordenado son: \")  \n",
        "  for f in range(0,n2):\n",
        "    print(Ar2[f])"
      ],
      "execution_count": 0,
      "outputs": []
    },
    {
      "cell_type": "code",
      "metadata": {
        "id": "3t_CiOwhwfHm",
        "colab_type": "code",
        "colab": {
          "base_uri": "https://localhost:8080/",
          "height": 204
        },
        "outputId": "faeef8c9-e10e-46fb-dfa9-84a1a0f2b82a"
      },
      "source": [
        "print(\"Cuantos elmentos desea cargar a la lista:\" )\n",
        "n2 = input()\n",
        "listaOrdenada(int(n2))"
      ],
      "execution_count": 28,
      "outputs": [
        {
          "output_type": "stream",
          "text": [
            "Cuantos elmentos desea cargar a la lista:\n",
            "4\n",
            "Ingrese un valor a la lista:1\n",
            "Ingrese un valor a la lista:5\n",
            "Ingrese un valor a la lista:3\n",
            "Ingrese un valor a la lista:7\n",
            "Los Numeros Ordenado son: \n",
            "1\n",
            "3\n",
            "5\n",
            "7\n"
          ],
          "name": "stdout"
        }
      ]
    },
    {
      "cell_type": "markdown",
      "metadata": {
        "id": "I-Cwn64_Zd_2",
        "colab_type": "text"
      },
      "source": [
        "## Problema 3"
      ]
    },
    {
      "cell_type": "code",
      "metadata": {
        "id": "YvzV6HSdcRUu",
        "colab_type": "code",
        "colab": {}
      },
      "source": [
        "def ciertoyfalso(num):\n",
        "  if num%7==0 and num%5!=0:\n",
        "    return True  \n",
        "  else:\n",
        "    return False"
      ],
      "execution_count": 0,
      "outputs": []
    },
    {
      "cell_type": "code",
      "metadata": {
        "id": "xpDYtFtAb9-A",
        "colab_type": "code",
        "colab": {
          "base_uri": "https://localhost:8080/",
          "height": 68
        },
        "outputId": "9768ed4d-e53a-4058-fa1b-3b226da06523"
      },
      "source": [
        "print(\"Ingrese un numero: \")\n",
        "num=input()\n",
        "ciertoyfalso(int(num))"
      ],
      "execution_count": 12,
      "outputs": [
        {
          "output_type": "stream",
          "text": [
            "Ingrese un numero: \n",
            "7\n"
          ],
          "name": "stdout"
        },
        {
          "output_type": "execute_result",
          "data": {
            "text/plain": [
              "True"
            ]
          },
          "metadata": {
            "tags": []
          },
          "execution_count": 12
        }
      ]
    },
    {
      "cell_type": "markdown",
      "metadata": {
        "id": "7nK6oFabh4Db",
        "colab_type": "text"
      },
      "source": [
        "## Problema 4"
      ]
    },
    {
      "cell_type": "code",
      "metadata": {
        "id": "7E-or80Gh6Rk",
        "colab_type": "code",
        "colab": {}
      },
      "source": [
        "def ciertoyfalsoP(num2):\n",
        "    if num2<2:\n",
        "      return False\n",
        "    for i in range(2,num2):\n",
        "      if num2%i==0:\n",
        "        return False\n",
        "    return True"
      ],
      "execution_count": 0,
      "outputs": []
    },
    {
      "cell_type": "code",
      "metadata": {
        "id": "4omhUwNxh6lE",
        "colab_type": "code",
        "colab": {
          "base_uri": "https://localhost:8080/",
          "height": 68
        },
        "outputId": "c31a7b34-2ef4-4a1a-891b-ef8dad7bef2d"
      },
      "source": [
        "print(\"Ingrese un numero: \")\n",
        "num2=input()\n",
        "ciertoyfalsoP(int(num2))"
      ],
      "execution_count": 17,
      "outputs": [
        {
          "output_type": "stream",
          "text": [
            "Ingrese un numero: \n",
            "6\n"
          ],
          "name": "stdout"
        },
        {
          "output_type": "execute_result",
          "data": {
            "text/plain": [
              "False"
            ]
          },
          "metadata": {
            "tags": []
          },
          "execution_count": 17
        }
      ]
    }
  ]
}