{
  "nbformat": 4,
  "nbformat_minor": 0,
  "metadata": {
    "colab": {
      "name": "Copia de Python01.ipynb",
      "version": "0.3.2",
      "provenance": [],
      "collapsed_sections": []
    },
    "kernelspec": {
      "name": "python3",
      "display_name": "Python 3"
    }
  },
  "cells": [
    {
      "metadata": {
        "id": "_gmZI7D4giEZ",
        "colab_type": "text"
      },
      "cell_type": "markdown",
      "source": [
        "#UNIVERSIDAD TECNOLÓGICA DE PANAMÁ\n",
        "##FACULTAD DE INGENIERÍA DE SISTEMAS COMPUTACIONALES\n",
        "##DEPARTAMENTO DE COMPUTACIÓN Y SIMULACIÓN DE SISTEMAS\n",
        "\n",
        "##ESTRUCTURAS DISCRETAS PARA LA COMPUTACIÓN\n",
        "\n",
        "## Profesor: Ezequiel Aguilar González\n",
        "\n"
      ]
    },
    {
      "metadata": {
        "id": "VBhLRiBJyi1B",
        "colab_type": "text"
      },
      "cell_type": "markdown",
      "source": [
        "## Inicializar un conjunto"
      ]
    },
    {
      "metadata": {
        "id": "aOSvH0zmyobi",
        "colab_type": "code",
        "colab": {}
      },
      "cell_type": "code",
      "source": [
        "vacioSet = set()"
      ],
      "execution_count": 0,
      "outputs": []
    },
    {
      "metadata": {
        "id": "pippfntxLZt8",
        "colab_type": "code",
        "colab": {
          "base_uri": "https://localhost:8080/",
          "height": 34
        },
        "outputId": "69185ad1-e84a-4c64-d6f8-6c0282fadd79"
      },
      "cell_type": "code",
      "source": [
        "vacioSet"
      ],
      "execution_count": 5,
      "outputs": [
        {
          "output_type": "execute_result",
          "data": {
            "text/plain": [
              "set()"
            ]
          },
          "metadata": {
            "tags": []
          },
          "execution_count": 5
        }
      ]
    },
    {
      "metadata": {
        "id": "qlQxp4LFywQ3",
        "colab_type": "text"
      },
      "cell_type": "markdown",
      "source": [
        "## Inicializar con valores\n"
      ]
    },
    {
      "metadata": {
        "id": "wgcDg3_4y01T",
        "colab_type": "code",
        "colab": {}
      },
      "cell_type": "code",
      "source": [
        "dataScientist = set(['Python', 'R', 'SQL', 'Git', 'Tableau', 'SAS'])\n",
        "dataEngineer = set(['Python', 'Java', 'Scala', 'Git', 'SQL', 'Hadoop'])"
      ],
      "execution_count": 0,
      "outputs": []
    },
    {
      "metadata": {
        "id": "wQh9ePlKy7ch",
        "colab_type": "text"
      },
      "cell_type": "markdown",
      "source": [
        "## Asignación: Imprimir los valores de dataScientist y dataEngineer"
      ]
    },
    {
      "metadata": {
        "id": "IIBmCwLHzEWo",
        "colab_type": "code",
        "colab": {
          "base_uri": "https://localhost:8080/",
          "height": 34
        },
        "outputId": "cf658628-697f-481c-f0c7-a7f04316ea9e"
      },
      "cell_type": "code",
      "source": [
        "dataScientist"
      ],
      "execution_count": 6,
      "outputs": [
        {
          "output_type": "execute_result",
          "data": {
            "text/plain": [
              "{'Git', 'Python', 'R', 'SAS', 'SQL', 'Tableau'}"
            ]
          },
          "metadata": {
            "tags": []
          },
          "execution_count": 6
        }
      ]
    },
    {
      "metadata": {
        "id": "0n6c9h8IzGWv",
        "colab_type": "code",
        "colab": {
          "base_uri": "https://localhost:8080/",
          "height": 34
        },
        "outputId": "0c9e76a8-2424-4593-e742-df6ac618312e"
      },
      "cell_type": "code",
      "source": [
        "dataEngineer"
      ],
      "execution_count": 7,
      "outputs": [
        {
          "output_type": "execute_result",
          "data": {
            "text/plain": [
              "{'Git', 'Hadoop', 'Java', 'Python', 'SQL', 'Scala'}"
            ]
          },
          "metadata": {
            "tags": []
          },
          "execution_count": 7
        }
      ]
    },
    {
      "metadata": {
        "id": "ssjqd7GFzEuw",
        "colab_type": "text"
      },
      "cell_type": "markdown",
      "source": [
        "## Otra forma de inicialización\n"
      ]
    },
    {
      "metadata": {
        "id": "tH_7F-aOzR5i",
        "colab_type": "code",
        "colab": {}
      },
      "cell_type": "code",
      "source": [
        "dataScientist = {'Python', 'R', 'SQL', 'Git', 'Tableau', 'SAS'}\n",
        "dataEngineer = {'Python', 'Java', 'Scala', 'Git', 'SQL', 'Hadoop'}"
      ],
      "execution_count": 0,
      "outputs": []
    },
    {
      "metadata": {
        "id": "YOpWKoxUzWAF",
        "colab_type": "text"
      },
      "cell_type": "markdown",
      "source": [
        "## Agregar o remover elementos"
      ]
    },
    {
      "metadata": {
        "id": "2G7pbZGKzgZS",
        "colab_type": "code",
        "colab": {}
      },
      "cell_type": "code",
      "source": [
        "graphicDesigner = {'InDesign', 'Photoshop', 'Acrobat', 'Premiere', 'Bridge'}"
      ],
      "execution_count": 0,
      "outputs": []
    },
    {
      "metadata": {
        "id": "J4T1l18rzmfz",
        "colab_type": "text"
      },
      "cell_type": "markdown",
      "source": [
        "### Agregar valores\n"
      ]
    },
    {
      "metadata": {
        "id": "qLukEDnyzj1g",
        "colab_type": "code",
        "colab": {}
      },
      "cell_type": "code",
      "source": [
        "graphicDesigner.add('Illustrator')"
      ],
      "execution_count": 0,
      "outputs": []
    },
    {
      "metadata": {
        "id": "VjEKvhyQNK5T",
        "colab_type": "code",
        "colab": {
          "base_uri": "https://localhost:8080/",
          "height": 34
        },
        "outputId": "657c9e65-7265-4f94-f042-42a8b46c1d42"
      },
      "cell_type": "code",
      "source": [
        "graphicDesigner"
      ],
      "execution_count": 17,
      "outputs": [
        {
          "output_type": "execute_result",
          "data": {
            "text/plain": [
              "{'Acrobat', 'Bridge', 'Illustrator', 'InDesign', 'Photoshop', 'Premiere'}"
            ]
          },
          "metadata": {
            "tags": []
          },
          "execution_count": 17
        }
      ]
    },
    {
      "metadata": {
        "id": "UIRT4OAgzvof",
        "colab_type": "code",
        "colab": {}
      },
      "cell_type": "code",
      "source": [
        "graphicDesigner.remove('Illustrator')"
      ],
      "execution_count": 0,
      "outputs": []
    },
    {
      "metadata": {
        "id": "baFDxt64NXwa",
        "colab_type": "code",
        "colab": {
          "base_uri": "https://localhost:8080/",
          "height": 34
        },
        "outputId": "8e2358bd-883f-465e-f386-ef6cb59f07cd"
      },
      "cell_type": "code",
      "source": [
        "graphicDesigner"
      ],
      "execution_count": 14,
      "outputs": [
        {
          "output_type": "execute_result",
          "data": {
            "text/plain": [
              "{'Acrobat', 'Bridge', 'InDesign', 'Photoshop', 'Premiere'}"
            ]
          },
          "metadata": {
            "tags": []
          },
          "execution_count": 14
        }
      ]
    },
    {
      "metadata": {
        "id": "KShWz0niz2RK",
        "colab_type": "code",
        "colab": {}
      },
      "cell_type": "code",
      "source": [
        "graphicDesigner.clear()"
      ],
      "execution_count": 0,
      "outputs": []
    },
    {
      "metadata": {
        "id": "CrgOifTrN07W",
        "colab_type": "code",
        "colab": {
          "base_uri": "https://localhost:8080/",
          "height": 34
        },
        "outputId": "b721e9b7-089c-4293-df32-0784e6a26818"
      },
      "cell_type": "code",
      "source": [
        "graphicDesigner"
      ],
      "execution_count": 19,
      "outputs": [
        {
          "output_type": "execute_result",
          "data": {
            "text/plain": [
              "set()"
            ]
          },
          "metadata": {
            "tags": []
          },
          "execution_count": 19
        }
      ]
    },
    {
      "metadata": {
        "id": "caENBLRiz6Bl",
        "colab_type": "code",
        "colab": {
          "base_uri": "https://localhost:8080/",
          "height": 119
        },
        "outputId": "914589a5-6763-4d9b-a6b8-faad0da443d3"
      },
      "cell_type": "code",
      "source": [
        "dataScientist = {'Python', 'R', 'SQL', 'Git', 'Tableau', 'SAS'}\n",
        "\n",
        "for skill in dataScientist:\n",
        "    print(skill)"
      ],
      "execution_count": 20,
      "outputs": [
        {
          "output_type": "stream",
          "text": [
            "Python\n",
            "SAS\n",
            "SQL\n",
            "R\n",
            "Tableau\n",
            "Git\n"
          ],
          "name": "stdout"
        }
      ]
    },
    {
      "metadata": {
        "id": "G8rNKN4dz7WX",
        "colab_type": "code",
        "outputId": "69848bb9-c9a7-4fbf-9364-91dfe10e6c0e",
        "colab": {
          "base_uri": "https://localhost:8080/",
          "height": 34
        }
      },
      "cell_type": "code",
      "source": [
        "sorted(dataScientist, reverse = True)"
      ],
      "execution_count": 26,
      "outputs": [
        {
          "output_type": "execute_result",
          "data": {
            "text/plain": [
              "['Tableau', 'SQL', 'SAS', 'R', 'Python', 'Git']"
            ]
          },
          "metadata": {
            "tags": []
          },
          "execution_count": 26
        }
      ]
    },
    {
      "metadata": {
        "id": "kF1UCX4J0HqH",
        "colab_type": "code",
        "colab": {}
      },
      "cell_type": "code",
      "source": [
        "dataScientist = set(['Python', 'R', 'SQL', 'Git', 'Tableau', 'SAS'])\n",
        "dataEngineer = set(['Python', 'Java', 'Scala', 'Git', 'SQL', 'Hadoop'])"
      ],
      "execution_count": 0,
      "outputs": []
    },
    {
      "metadata": {
        "id": "4WSpEtkR0Pzh",
        "colab_type": "code",
        "outputId": "b919ca35-8623-46ad-eafe-f26f0d969a16",
        "colab": {
          "base_uri": "https://localhost:8080/",
          "height": 34
        }
      },
      "cell_type": "code",
      "source": [
        "\n",
        "dataScientist.union(dataEngineer)\n",
        "\n",
        "dataScientist | dataEngineer "
      ],
      "execution_count": 31,
      "outputs": [
        {
          "output_type": "execute_result",
          "data": {
            "text/plain": [
              "{'Git', 'Hadoop', 'Java', 'Python', 'R', 'SAS', 'SQL', 'Scala', 'Tableau'}"
            ]
          },
          "metadata": {
            "tags": []
          },
          "execution_count": 31
        }
      ]
    },
    {
      "metadata": {
        "id": "0-lwL_6m0XTw",
        "colab_type": "code",
        "outputId": "9fa720d1-a720-4688-ed83-32d2e468cb2e",
        "colab": {
          "base_uri": "https://localhost:8080/",
          "height": 34
        }
      },
      "cell_type": "code",
      "source": [
        "# Intersection operation\n",
        "dataScientist.intersection(dataEngineer)\n",
        "\n",
        "# Equivalent Result\n",
        "dataScientist & dataEngineer"
      ],
      "execution_count": 32,
      "outputs": [
        {
          "output_type": "execute_result",
          "data": {
            "text/plain": [
              "{'Git', 'Python', 'SQL'}"
            ]
          },
          "metadata": {
            "tags": []
          },
          "execution_count": 32
        }
      ]
    },
    {
      "metadata": {
        "id": "Eiwkz2eq0c2_",
        "colab_type": "code",
        "outputId": "c39dd9e0-7532-4237-d2fb-ecc08ebc494d",
        "colab": {
          "base_uri": "https://localhost:8080/",
          "height": 34
        }
      },
      "cell_type": "code",
      "source": [
        "# Initialize a set\n",
        "graphicDesigner = {'Illustrator', 'InDesign', 'Photoshop'}\n",
        "\n",
        "# These sets have elements in common so it would return False\n",
        "dataScientist.isdisjoint(dataEngineer)\n",
        "\n",
        "# These sets have no elements in common so it would return True\n",
        "dataScientist.isdisjoint(graphicDesigner)"
      ],
      "execution_count": 34,
      "outputs": [
        {
          "output_type": "execute_result",
          "data": {
            "text/plain": [
              "True"
            ]
          },
          "metadata": {
            "tags": []
          },
          "execution_count": 34
        }
      ]
    },
    {
      "metadata": {
        "id": "HWqUJyU8SvbR",
        "colab_type": "code",
        "colab": {
          "base_uri": "https://localhost:8080/",
          "height": 34
        },
        "outputId": "541010df-3eb0-415a-e0db-601e8c93249e"
      },
      "cell_type": "code",
      "source": [
        "dataScientist.isdisjoint(dataEngineer)"
      ],
      "execution_count": 35,
      "outputs": [
        {
          "output_type": "execute_result",
          "data": {
            "text/plain": [
              "False"
            ]
          },
          "metadata": {
            "tags": []
          },
          "execution_count": 35
        }
      ]
    },
    {
      "metadata": {
        "id": "tpkuheqT0ghB",
        "colab_type": "code",
        "outputId": "e4eed2e2-f938-49fd-f6c8-2ec4c6fde1ce",
        "colab": {
          "base_uri": "https://localhost:8080/",
          "height": 34
        }
      },
      "cell_type": "code",
      "source": [
        "# Difference Operation\n",
        "dataScientist.difference(dataEngineer)\n",
        "\n",
        "# Equivalent Result\n",
        "dataScientist - dataEngineer"
      ],
      "execution_count": 37,
      "outputs": [
        {
          "output_type": "execute_result",
          "data": {
            "text/plain": [
              "{'R', 'SAS', 'Tableau'}"
            ]
          },
          "metadata": {
            "tags": []
          },
          "execution_count": 37
        }
      ]
    },
    {
      "metadata": {
        "id": "EhweEtDs0jzD",
        "colab_type": "code",
        "outputId": "3c41e557-4946-41a4-8782-8bc58e404508",
        "colab": {
          "base_uri": "https://localhost:8080/",
          "height": 36
        }
      },
      "cell_type": "code",
      "source": [
        "# Symmetric Difference Operation\n",
        "dataScientist.symmetric_difference(dataEngineer)\n",
        "\n",
        "# Equivalent Result\n",
        "dataScientist ^ dataEngineer"
      ],
      "execution_count": 0,
      "outputs": [
        {
          "output_type": "execute_result",
          "data": {
            "text/plain": [
              "{'Hadoop', 'Java', 'R', 'SAS', 'Scala', 'Tableau'}"
            ]
          },
          "metadata": {
            "tags": []
          },
          "execution_count": 15
        }
      ]
    },
    {
      "metadata": {
        "id": "qxyT_HvL0pvA",
        "colab_type": "code",
        "outputId": "eaa6cf0b-607d-4c4b-a969-32e77cb1705d",
        "colab": {
          "base_uri": "https://localhost:8080/",
          "height": 34
        }
      },
      "cell_type": "code",
      "source": [
        "# Initialize a list\n",
        "possibleList = ['Python', 'R', 'SQL', 'Git', 'Tableau', 'SAS', 'Java', 'Spark', 'Scala']\n",
        "\n",
        "# Membership test\n",
        "'Python' in possibleList"
      ],
      "execution_count": 38,
      "outputs": [
        {
          "output_type": "execute_result",
          "data": {
            "text/plain": [
              "True"
            ]
          },
          "metadata": {
            "tags": []
          },
          "execution_count": 38
        }
      ]
    },
    {
      "metadata": {
        "id": "RoAimCO7TZRZ",
        "colab_type": "code",
        "colab": {
          "base_uri": "https://localhost:8080/",
          "height": 34
        },
        "outputId": "6b4bc3c9-68be-4406-8878-55b9856038a7"
      },
      "cell_type": "code",
      "source": [
        "'c++' in possibleList"
      ],
      "execution_count": 39,
      "outputs": [
        {
          "output_type": "execute_result",
          "data": {
            "text/plain": [
              "False"
            ]
          },
          "metadata": {
            "tags": []
          },
          "execution_count": 39
        }
      ]
    },
    {
      "metadata": {
        "id": "bx95g_c00vOS",
        "colab_type": "code",
        "colab": {}
      },
      "cell_type": "code",
      "source": [
        "possibleSkills = {'Python', 'R', 'SQL', 'Git', 'Tableau', 'SAS'}\n",
        "mySkills = {'Python', 'R'}"
      ],
      "execution_count": 0,
      "outputs": []
    },
    {
      "metadata": {
        "id": "ctq4ea6q0xCV",
        "colab_type": "code",
        "colab": {
          "base_uri": "https://localhost:8080/",
          "height": 34
        },
        "outputId": "c49512f0-542b-4d87-8c46-71e214686a6d"
      },
      "cell_type": "code",
      "source": [
        "mySkills.issubset(possibleSkills)"
      ],
      "execution_count": 42,
      "outputs": [
        {
          "output_type": "execute_result",
          "data": {
            "text/plain": [
              "True"
            ]
          },
          "metadata": {
            "tags": []
          },
          "execution_count": 42
        }
      ]
    },
    {
      "metadata": {
        "id": "AGy0vFAz01Ne",
        "colab_type": "text"
      },
      "cell_type": "markdown",
      "source": [
        "##Tarea\n",
        "\n",
        "\n",
        "\n",
        "1.   Crear tres grupos (ejem: Casas de Game of Thrones). Maximo 4 elementos\n",
        "2.   Aplicar operaciones de inteseccion, union, diferencia, pertenencia.\n",
        "3.   Enviar al correo ezequiel.aguilar@utp.ac.pa\n",
        "\n"
      ]
    },
    {
      "metadata": {
        "id": "s90CtbDTT-xC",
        "colab_type": "text"
      },
      "cell_type": "markdown",
      "source": [
        "### **TAREA**"
      ]
    },
    {
      "metadata": {
        "id": "474_m27WUDzL",
        "colab_type": "code",
        "colab": {}
      },
      "cell_type": "code",
      "source": [
        "CasasGOT ={'Targaryen','Stark','Tyrell','Lannister','Baratheon'}\n",
        "Materias={'AI','Matematicas','Fisica','Biologia','Calculo'}\n",
        "Random={'Stark','Fisica','Arbol','Kelly','Baratheon','AI'}"
      ],
      "execution_count": 0,
      "outputs": []
    },
    {
      "metadata": {
        "id": "Sp2trMPrU92b",
        "colab_type": "text"
      },
      "cell_type": "markdown",
      "source": [
        "### **Interseccion**"
      ]
    },
    {
      "metadata": {
        "id": "PX8RmK1VU9ep",
        "colab_type": "code",
        "colab": {
          "base_uri": "https://localhost:8080/",
          "height": 34
        },
        "outputId": "6a7927ea-5e9e-4127-d01e-a36464b56c3f"
      },
      "cell_type": "code",
      "source": [
        "CasasGOT & Materias"
      ],
      "execution_count": 53,
      "outputs": [
        {
          "output_type": "execute_result",
          "data": {
            "text/plain": [
              "set()"
            ]
          },
          "metadata": {
            "tags": []
          },
          "execution_count": 53
        }
      ]
    },
    {
      "metadata": {
        "id": "qiuaFK9IVJgS",
        "colab_type": "code",
        "colab": {
          "base_uri": "https://localhost:8080/",
          "height": 34
        },
        "outputId": "73584033-d920-4723-9b10-06cc6a6b691d"
      },
      "cell_type": "code",
      "source": [
        "# CasasGOT & Random"
      ],
      "execution_count": 52,
      "outputs": [
        {
          "output_type": "execute_result",
          "data": {
            "text/plain": [
              "{'Baratheon', 'Stark'}"
            ]
          },
          "metadata": {
            "tags": []
          },
          "execution_count": 52
        }
      ]
    },
    {
      "metadata": {
        "id": "wgoqAbrpVcYi",
        "colab_type": "text"
      },
      "cell_type": "markdown",
      "source": [
        "### **Union**"
      ]
    },
    {
      "metadata": {
        "id": "9EJbD2VyVeFQ",
        "colab_type": "code",
        "colab": {
          "base_uri": "https://localhost:8080/",
          "height": 187
        },
        "outputId": "166981de-8e07-4bf6-8889-3152f35f699f"
      },
      "cell_type": "code",
      "source": [
        "CasasGOT.union(Materias)"
      ],
      "execution_count": 54,
      "outputs": [
        {
          "output_type": "execute_result",
          "data": {
            "text/plain": [
              "{'AI',\n",
              " 'Baratheon',\n",
              " 'Biologia',\n",
              " 'Calculo',\n",
              " 'Fisica',\n",
              " 'Lannister',\n",
              " 'Matematicas',\n",
              " 'Stark',\n",
              " 'Targaryen',\n",
              " 'Tyrell'}"
            ]
          },
          "metadata": {
            "tags": []
          },
          "execution_count": 54
        }
      ]
    },
    {
      "metadata": {
        "id": "6e4KnK9bV4dK",
        "colab_type": "text"
      },
      "cell_type": "markdown",
      "source": [
        "### **Diferencia**"
      ]
    },
    {
      "metadata": {
        "id": "dsEk6Uw1WNfT",
        "colab_type": "code",
        "colab": {
          "base_uri": "https://localhost:8080/",
          "height": 34
        },
        "outputId": "73987179-cab0-418c-9d8e-e410f2ad2108"
      },
      "cell_type": "code",
      "source": [
        " CasasGOT - Random"
      ],
      "execution_count": 55,
      "outputs": [
        {
          "output_type": "execute_result",
          "data": {
            "text/plain": [
              "{'Lannister', 'Targaryen', 'Tyrell'}"
            ]
          },
          "metadata": {
            "tags": []
          },
          "execution_count": 55
        }
      ]
    },
    {
      "metadata": {
        "id": "hriMRiiuWWr_",
        "colab_type": "code",
        "colab": {
          "base_uri": "https://localhost:8080/",
          "height": 34
        },
        "outputId": "71cf3fd1-496a-494e-d4cb-102b236d29f4"
      },
      "cell_type": "code",
      "source": [
        " Random - CasasGOT "
      ],
      "execution_count": 56,
      "outputs": [
        {
          "output_type": "execute_result",
          "data": {
            "text/plain": [
              "{'AI', 'Arbol', 'Fisica', 'Kelly'}"
            ]
          },
          "metadata": {
            "tags": []
          },
          "execution_count": 56
        }
      ]
    },
    {
      "metadata": {
        "id": "wpgi3Z4qWcLE",
        "colab_type": "code",
        "colab": {
          "base_uri": "https://localhost:8080/",
          "height": 34
        },
        "outputId": "bae61fc4-006c-4082-a236-b03f5a05d623"
      },
      "cell_type": "code",
      "source": [
        " CasasGOT - Materias"
      ],
      "execution_count": 57,
      "outputs": [
        {
          "output_type": "execute_result",
          "data": {
            "text/plain": [
              "{'Baratheon', 'Lannister', 'Stark', 'Targaryen', 'Tyrell'}"
            ]
          },
          "metadata": {
            "tags": []
          },
          "execution_count": 57
        }
      ]
    },
    {
      "metadata": {
        "id": "O7107V16V8AS",
        "colab_type": "text"
      },
      "cell_type": "markdown",
      "source": [
        "### **Pertenencia**"
      ]
    },
    {
      "metadata": {
        "id": "ScKoQjd6WuAj",
        "colab_type": "code",
        "colab": {
          "base_uri": "https://localhost:8080/",
          "height": 34
        },
        "outputId": "ca3ce6e0-5222-4b15-8aec-24b19350163c"
      },
      "cell_type": "code",
      "source": [
        "CasasGOT.issubset(Random)"
      ],
      "execution_count": 58,
      "outputs": [
        {
          "output_type": "execute_result",
          "data": {
            "text/plain": [
              "False"
            ]
          },
          "metadata": {
            "tags": []
          },
          "execution_count": 58
        }
      ]
    },
    {
      "metadata": {
        "id": "_BjUJ4r7WxmM",
        "colab_type": "code",
        "colab": {
          "base_uri": "https://localhost:8080/",
          "height": 34
        },
        "outputId": "65a8011f-8a38-4876-e2cf-9eaeffd1962c"
      },
      "cell_type": "code",
      "source": [
        "CasasGOT.issubset(Materias)"
      ],
      "execution_count": 60,
      "outputs": [
        {
          "output_type": "execute_result",
          "data": {
            "text/plain": [
              "False"
            ]
          },
          "metadata": {
            "tags": []
          },
          "execution_count": 60
        }
      ]
    },
    {
      "metadata": {
        "id": "ukaUAfEqW15r",
        "colab_type": "code",
        "colab": {
          "base_uri": "https://localhost:8080/",
          "height": 34
        },
        "outputId": "c239d3fc-cbe9-4a42-c2bf-ef031348c7d8"
      },
      "cell_type": "code",
      "source": [
        "Random.issubset(Materias)"
      ],
      "execution_count": 61,
      "outputs": [
        {
          "output_type": "execute_result",
          "data": {
            "text/plain": [
              "False"
            ]
          },
          "metadata": {
            "tags": []
          },
          "execution_count": 61
        }
      ]
    }
  ]
}