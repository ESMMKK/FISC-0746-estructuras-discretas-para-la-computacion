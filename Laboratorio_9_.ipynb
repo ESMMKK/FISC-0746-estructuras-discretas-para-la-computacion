{
  "nbformat": 4,
  "nbformat_minor": 0,
  "metadata": {
    "colab": {
      "name": " Laboratorio 9 .ipynb",
      "version": "0.3.2",
      "provenance": [],
      "collapsed_sections": [],
      "include_colab_link": true
    },
    "kernelspec": {
      "name": "python3",
      "display_name": "Python 3"
    }
  },
  "cells": [
    {
      "cell_type": "markdown",
      "metadata": {
        "id": "view-in-github",
        "colab_type": "text"
      },
      "source": [
        "<a href=\"https://colab.research.google.com/github/ESMMKK/FISC-0746-estructuras-discretas-para-la-computacion/blob/master/Laboratorio_9_.ipynb\" target=\"_parent\"><img src=\"https://colab.research.google.com/assets/colab-badge.svg\" alt=\"Open In Colab\"/></a>"
      ]
    },
    {
      "cell_type": "markdown",
      "metadata": {
        "id": "MJCbJTleoJgJ",
        "colab_type": "text"
      },
      "source": [
        "# Laboratorio 9 \n",
        "\n",
        "## *   Estudiante con mayor promedio\n",
        "## *   Listas de estudiantes que superan ese promedio \n",
        "\n"
      ]
    },
    {
      "cell_type": "code",
      "metadata": {
        "id": "7Y8Npb58oITS",
        "colab_type": "code",
        "outputId": "8c2a999d-285d-4019-cb2f-e50b4415a180",
        "colab": {
          "base_uri": "https://localhost:8080/",
          "height": 255
        }
      },
      "source": [
        "LibrodeNotas = {\n",
        "    'Susana':[92,85,100],\n",
        "    'Eduardo':[83,95,79],\n",
        "    'Ariel':[91,89,82],\n",
        "    'Pedro':[97,91,92],\n",
        "}\n",
        "\n",
        "estudiante_promedio={}\n",
        "\n",
        "TodaslasNotasTotales=0\n",
        "ContadordeNotas=0\n",
        "\n",
        "for nombre, notas, in LibrodeNotas.items():\n",
        "  #[Codifique]obtener la suma de las notas\n",
        "  #total=\n",
        "  total=sum(notas)\n",
        "  print(f'Promedio de {nombre} es { total / len(notas):.2f}')\n",
        "  \n",
        "  #[Codifique]obtener la suma total\n",
        "  #TodasLasNotasTotales=\n",
        "  TodaslasNotasTotales+=total\n",
        "  \n",
        "  #[Codifique] obtener contador\n",
        "  #ContadordeNotas=\n",
        "  ContadordeNotas+=len(notas)\n",
        "  \n",
        "  #Crear libreria nueva donde guardar promedios\n",
        "  promedio=(total / len(notas))\n",
        "  estudiante_promedio[nombre]=promedio\n",
        "  \n",
        "print(\"\\n\")   \n",
        "print(f\"El promedio del salon es: {TodaslasNotasTotales/ContadordeNotas:.2f}\")\n",
        "print(\"\\n\")\n",
        "promediototal=(TodaslasNotasTotales/ContadordeNotas)\n",
        "\n",
        "for nombre, promedio in estudiante_promedio.items():\n",
        "  if(promedio>=promediototal):\n",
        "    print(f'Estudiante {nombre} Mantiene promedio superior con: {promedio:.2f}')\n",
        "    \n",
        "print(\"\\n\")\n",
        "\n",
        "mayor=0\n",
        "for nombre, promedio in estudiante_promedio.items():\n",
        "  if(promedio>mayor):\n",
        "    mayor=promedio\n",
        "print(f'Estudiante {nombre} Mantiene promedio superior con: {mayor:.2f}')"
      ],
      "execution_count": 84,
      "outputs": [
        {
          "output_type": "stream",
          "text": [
            "Promedio de Susana es 92.33\n",
            "Promedio de Eduardo es 85.67\n",
            "Promedio de Ariel es 87.33\n",
            "Promedio de Pedro es 93.33\n",
            "\n",
            "\n",
            "El promedio del salon es: 89.67\n",
            "\n",
            "\n",
            "Estudiante Susana Mantiene promedio superior con: 92.33\n",
            "Estudiante Pedro Mantiene promedio superior con: 93.33\n",
            "\n",
            "\n",
            "Estudiante Pedro Mantiene promedio superior con: 93.33\n"
          ],
          "name": "stdout"
        }
      ]
    }
  ]
}