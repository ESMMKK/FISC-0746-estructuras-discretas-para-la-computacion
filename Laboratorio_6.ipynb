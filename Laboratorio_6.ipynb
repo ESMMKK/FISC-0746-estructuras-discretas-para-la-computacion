{
  "nbformat": 4,
  "nbformat_minor": 0,
  "metadata": {
    "colab": {
      "name": "Laboratorio 6.ipynb",
      "version": "0.3.2",
      "provenance": [],
      "collapsed_sections": [],
      "include_colab_link": true
    },
    "kernelspec": {
      "name": "python3",
      "display_name": "Python 3"
    }
  },
  "cells": [
    {
      "cell_type": "markdown",
      "metadata": {
        "id": "view-in-github",
        "colab_type": "text"
      },
      "source": [
        "<a href=\"https://colab.research.google.com/github/ESMMKK/FISC-0746-estructuras-discretas-para-la-computacion/blob/master/Laboratorio_6.ipynb\" target=\"_parent\"><img src=\"https://colab.research.google.com/assets/colab-badge.svg\" alt=\"Open In Colab\"/></a>"
      ]
    },
    {
      "cell_type": "markdown",
      "metadata": {
        "id": "LZzdt4t1glAJ",
        "colab_type": "text"
      },
      "source": [
        "# LABORATORIO **6**"
      ]
    },
    {
      "cell_type": "markdown",
      "metadata": {
        "id": "jhqSkBu-gscD",
        "colab_type": "text"
      },
      "source": [
        "Crear una funcion que "
      ]
    },
    {
      "cell_type": "code",
      "metadata": {
        "id": "tc8b2zTYgrHw",
        "colab_type": "code",
        "colab": {}
      },
      "source": [
        "def multi(a,b):\n",
        "  return a*b"
      ],
      "execution_count": 0,
      "outputs": []
    },
    {
      "cell_type": "code",
      "metadata": {
        "id": "O6EYBS14guIE",
        "colab_type": "code",
        "colab": {
          "base_uri": "https://localhost:8080/",
          "height": 34
        },
        "outputId": "b7d5a9bd-1646-4258-b496-698c40ad3d05"
      },
      "source": [
        "num1=10\n",
        "num2=2\n",
        "#multi(num1,num2)\n",
        "print(\"La multiplicacion de \"+str(num1)+\" y \"+str(num2)+\" es \"+ str(multi(num1,num2)))\n"
      ],
      "execution_count": 2,
      "outputs": [
        {
          "output_type": "stream",
          "text": [
            "La multiplicacion de 10 y 2 es 20\n"
          ],
          "name": "stdout"
        }
      ]
    },
    {
      "cell_type": "markdown",
      "metadata": {
        "id": "BbqTTuNYgttK",
        "colab_type": "text"
      },
      "source": [
        "### Escribiir una funcion que regrese el 7% de una compra\n",
        "### cual es el total de la venta"
      ]
    },
    {
      "cell_type": "code",
      "metadata": {
        "id": "5zvjPTBvgrvz",
        "colab_type": "code",
        "colab": {}
      },
      "source": [
        "def itbms(compra):\n",
        "  return compra*0.07"
      ],
      "execution_count": 0,
      "outputs": []
    },
    {
      "cell_type": "code",
      "metadata": {
        "id": "VYBP5J1xh3IQ",
        "colab_type": "code",
        "colab": {
          "base_uri": "https://localhost:8080/",
          "height": 68
        },
        "outputId": "875e037e-eae2-4b11-e16c-d64123f6286b"
      },
      "source": [
        "neto=250.85\n",
        "ITBMS= itbms(neto)\n",
        "print(\"TOTAL: \"+str (neto))\n",
        "print(\"ITBMS(7%): \"+str(ITBMS))\n",
        "total=neto+ITBMS\n",
        "print(\"TOTAL: \"+str (total))"
      ],
      "execution_count": 58,
      "outputs": [
        {
          "output_type": "stream",
          "text": [
            "TOTAL: 250.85\n",
            "ITBMS(7%): 17.5595\n",
            "TOTAL: 268.4095\n"
          ],
          "name": "stdout"
        }
      ]
    },
    {
      "cell_type": "markdown",
      "metadata": {
        "id": "Wap3RQxopj9i",
        "colab_type": "text"
      },
      "source": [
        "### Preguntar si la persona es jubilada y si es aplicar descuento de 15  a su compra."
      ]
    },
    {
      "cell_type": "code",
      "metadata": {
        "id": "ywbYnbhlpr-x",
        "colab_type": "code",
        "colab": {}
      },
      "source": [
        "def desc(compra):\n",
        "  return compra*0.15"
      ],
      "execution_count": 0,
      "outputs": []
    },
    {
      "cell_type": "code",
      "metadata": {
        "id": "phUF3or5rwiA",
        "colab_type": "code",
        "colab": {
          "base_uri": "https://localhost:8080/",
          "height": 119
        },
        "outputId": "f3694743-0978-4637-9e24-602a5f6fd951"
      },
      "source": [
        "neto=20\n",
        "ITBMS=itbms(neto)\n",
        "descu=desc(neto)\n",
        "print(\"Es usted jubilado? (Si o NO)\")\n",
        "resp = input()\n",
        "if resp == 'SI'  or resp == 'si':\n",
        "  print(\"TOTAL: \"+str (neto)+\"$\")\n",
        "  print(\"ITBMS(7%): \"+str(ITBMS)+\"$\")\n",
        "  total=neto+ITBMS\n",
        "  descj=neto-descu\n",
        "  print (\"DESCUENTO JUBILADO: \"+str (descu)+\"$\")\n",
        "  print(\"TOTAL: \"+str (descj)+\"$\")\n",
        "  \n",
        "else:\n",
        "  print(\"TOTAL: \"+str (neto)+\"$\")\n",
        "  print(\"ITBMS(7%): \"+str(ITBMS)+\"$\")\n",
        "  total=neto+ITBMS\n",
        "  print(\"TOTAL: \"+str (total)+\"$\")\n",
        "  "
      ],
      "execution_count": 24,
      "outputs": [
        {
          "output_type": "stream",
          "text": [
            "Es usted jubilado? (Si o NO)\n",
            "si\n",
            "TOTAL: 20$\n",
            "ITBMS(7%): 1.4000000000000001$\n",
            "DESCUENTO JUBILADO: 3.0$\n",
            "TOTAL: 17.0$\n"
          ],
          "name": "stdout"
        }
      ]
    }
  ]
}