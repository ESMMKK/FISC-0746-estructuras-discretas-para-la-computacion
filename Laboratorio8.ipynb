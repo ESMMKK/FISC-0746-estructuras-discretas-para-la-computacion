{
  "nbformat": 4,
  "nbformat_minor": 0,
  "metadata": {
    "colab": {
      "name": "Laboratorio8.ipynb",
      "version": "0.3.2",
      "provenance": [],
      "collapsed_sections": [],
      "include_colab_link": true
    },
    "kernelspec": {
      "name": "python3",
      "display_name": "Python 3"
    }
  },
  "cells": [
    {
      "cell_type": "markdown",
      "metadata": {
        "id": "view-in-github",
        "colab_type": "text"
      },
      "source": [
        "<a href=\"https://colab.research.google.com/github/ESMMKK/FISC-0746-estructuras-discretas-para-la-computacion/blob/master/Laboratorio8.ipynb\" target=\"_parent\"><img src=\"https://colab.research.google.com/assets/colab-badge.svg\" alt=\"Open In Colab\"/></a>"
      ]
    },
    {
      "cell_type": "markdown",
      "metadata": {
        "id": "5X-J3TBOhQJK",
        "colab_type": "text"
      },
      "source": [
        "# Diccionarios\n",
        "\n"
      ]
    },
    {
      "cell_type": "code",
      "metadata": {
        "id": "H_XSyByLhC1E",
        "colab_type": "code",
        "outputId": "9ec213e9-b2fa-43c6-c0c9-371ea39aeba5",
        "colab": {
          "base_uri": "https://localhost:8080/",
          "height": 34
        }
      },
      "source": [
        "#declaracion\n",
        "codigo_paises={\"Finland\":'fi',\"South Africa\":'za',\"Nepal\":'np',\"Panama\":'pa'}\n",
        "#impresion\n",
        "codigo_paises"
      ],
      "execution_count": 1,
      "outputs": [
        {
          "output_type": "execute_result",
          "data": {
            "text/plain": [
              "{'Finland': 'fi', 'Nepal': 'np', 'Panama': 'pa', 'South Africa': 'za'}"
            ]
          },
          "metadata": {
            "tags": []
          },
          "execution_count": 1
        }
      ]
    },
    {
      "cell_type": "code",
      "metadata": {
        "id": "2r0enH_QiIIj",
        "colab_type": "code",
        "outputId": "66a13f10-1071-410a-9d6e-b528b744196c",
        "colab": {
          "base_uri": "https://localhost:8080/",
          "height": 34
        }
      },
      "source": [
        "#determinar tamaño\n",
        "len(codigo_paises)"
      ],
      "execution_count": 2,
      "outputs": [
        {
          "output_type": "execute_result",
          "data": {
            "text/plain": [
              "4"
            ]
          },
          "metadata": {
            "tags": []
          },
          "execution_count": 2
        }
      ]
    },
    {
      "cell_type": "code",
      "metadata": {
        "id": "NnfFsVPfiNpC",
        "colab_type": "code",
        "outputId": "3fc9279b-fb56-4457-ab23-1afe6cd14808",
        "colab": {
          "base_uri": "https://localhost:8080/",
          "height": 34
        }
      },
      "source": [
        "if codigo_paises:\n",
        "  print(\"El diccionario tiene elementos.\")\n",
        "else:\n",
        "  print(\"El diccionario no tiene elementos.\")"
      ],
      "execution_count": 3,
      "outputs": [
        {
          "output_type": "stream",
          "text": [
            "El diccionario tiene elementos.\n"
          ],
          "name": "stdout"
        }
      ]
    },
    {
      "cell_type": "code",
      "metadata": {
        "id": "S150_PxGidzh",
        "colab_type": "code",
        "outputId": "83a65a27-aaab-431e-a67d-43b0b8eccef5",
        "colab": {
          "base_uri": "https://localhost:8080/",
          "height": 34
        }
      },
      "source": [
        "#eliminar elementos del diccionario.\n",
        "codigo_paises.clear()\n",
        "if codigo_paises:\n",
        "  print(\"El diccionario tiene elementos.\")\n",
        "else:\n",
        "  print(\"El diccionario no tiene elementos.\")"
      ],
      "execution_count": 4,
      "outputs": [
        {
          "output_type": "stream",
          "text": [
            "El diccionario no tiene elementos.\n"
          ],
          "name": "stdout"
        }
      ]
    },
    {
      "cell_type": "code",
      "metadata": {
        "id": "Wq0twE66mFaq",
        "colab_type": "code",
        "outputId": "e38763cd-b98a-4d5d-91b7-7d9a0cc3ec62",
        "colab": {
          "base_uri": "https://localhost:8080/",
          "height": 85
        }
      },
      "source": [
        "#Declaracion\n",
        "meses_año={\"Enero\":'31',\"Febrero\":'29',\"Marzo\":'31',\"Abril\":'30'}\n",
        "for mes,dias in meses_año.items():\n",
        "  print(f'{mes} Tiene {dias} dias')"
      ],
      "execution_count": 5,
      "outputs": [
        {
          "output_type": "stream",
          "text": [
            "Enero Tiene 31 dias\n",
            "Febrero Tiene 29 dias\n",
            "Marzo Tiene 31 dias\n",
            "Abril Tiene 30 dias\n"
          ],
          "name": "stdout"
        }
      ]
    },
    {
      "cell_type": "code",
      "metadata": {
        "id": "3aTF205KndiM",
        "colab_type": "code",
        "outputId": "429bebea-caa2-4c7c-8a96-f9f9094d0901",
        "colab": {
          "base_uri": "https://localhost:8080/",
          "height": 34
        }
      },
      "source": [
        "#Declaracion\n",
        "codigo_paises={\"Finland\":'fi',\"South Africa\":'za',\"Nepal\":'np',\"Panama\":'pa'}\n",
        "codigo_paises.items()"
      ],
      "execution_count": 6,
      "outputs": [
        {
          "output_type": "execute_result",
          "data": {
            "text/plain": [
              "dict_items([('Finland', 'fi'), ('South Africa', 'za'), ('Nepal', 'np'), ('Panama', 'pa')])"
            ]
          },
          "metadata": {
            "tags": []
          },
          "execution_count": 6
        }
      ]
    },
    {
      "cell_type": "markdown",
      "metadata": {
        "id": "T810LsgikbCi",
        "colab_type": "text"
      },
      "source": [
        "# **Tarea 1**"
      ]
    },
    {
      "cell_type": "code",
      "metadata": {
        "id": "xhgSpYo2jh5q",
        "colab_type": "code",
        "outputId": "2a1329e9-a9f0-4072-ea18-b3a71056d8ee",
        "colab": {
          "base_uri": "https://localhost:8080/",
          "height": 85
        }
      },
      "source": [
        "#Declaracion\n",
        "codigo_paises={\"Finland\":'fi',\"South Africa\":'za',\"Nepal\":'np',\"Panama\":'pa'}\n",
        "for pais,codigo in codigo_paises.items():\n",
        "  print(f'{codigo} es el codigo de {pais}')"
      ],
      "execution_count": 7,
      "outputs": [
        {
          "output_type": "stream",
          "text": [
            "fi es el codigo de Finland\n",
            "za es el codigo de South Africa\n",
            "np es el codigo de Nepal\n",
            "pa es el codigo de Panama\n"
          ],
          "name": "stdout"
        }
      ]
    },
    {
      "cell_type": "code",
      "metadata": {
        "id": "x7WHR1GnlGGq",
        "colab_type": "code",
        "outputId": "500163fb-32a8-4ec2-f6d7-977621c02dc4",
        "colab": {
          "base_uri": "https://localhost:8080/",
          "height": 34
        }
      },
      "source": [
        "numeros_romanos={'I':1,'II':2,'III':3,'V':5,'X':100,}\n",
        "numeros_romanos"
      ],
      "execution_count": 8,
      "outputs": [
        {
          "output_type": "execute_result",
          "data": {
            "text/plain": [
              "{'I': 1, 'II': 2, 'III': 3, 'V': 5, 'X': 100}"
            ]
          },
          "metadata": {
            "tags": []
          },
          "execution_count": 8
        }
      ]
    },
    {
      "cell_type": "code",
      "metadata": {
        "id": "zdxUKcKglYSh",
        "colab_type": "code",
        "outputId": "ca3a33a7-3dcd-4a95-c2cf-08be6541f2d5",
        "colab": {
          "base_uri": "https://localhost:8080/",
          "height": 34
        }
      },
      "source": [
        "numeros_romanos['V']"
      ],
      "execution_count": 9,
      "outputs": [
        {
          "output_type": "execute_result",
          "data": {
            "text/plain": [
              "5"
            ]
          },
          "metadata": {
            "tags": []
          },
          "execution_count": 9
        }
      ]
    },
    {
      "cell_type": "code",
      "metadata": {
        "id": "4dCxrnjPlsej",
        "colab_type": "code",
        "outputId": "19611c2d-7d02-49dc-eeab-f8e951b40c51",
        "colab": {
          "base_uri": "https://localhost:8080/",
          "height": 34
        }
      },
      "source": [
        "numeros_romanos['X']=10\n",
        "numeros_romanos"
      ],
      "execution_count": 10,
      "outputs": [
        {
          "output_type": "execute_result",
          "data": {
            "text/plain": [
              "{'I': 1, 'II': 2, 'III': 3, 'V': 5, 'X': 10}"
            ]
          },
          "metadata": {
            "tags": []
          },
          "execution_count": 10
        }
      ]
    },
    {
      "cell_type": "code",
      "metadata": {
        "id": "FzkoapN1oUrr",
        "colab_type": "code",
        "outputId": "50992983-dd17-478b-afe6-f0207ab72c7c",
        "colab": {
          "base_uri": "https://localhost:8080/",
          "height": 34
        }
      },
      "source": [
        "#agrefar un nuevo llave/valor\n",
        "numeros_romanos['L']=50\n",
        "numeros_romanos"
      ],
      "execution_count": 11,
      "outputs": [
        {
          "output_type": "execute_result",
          "data": {
            "text/plain": [
              "{'I': 1, 'II': 2, 'III': 3, 'L': 50, 'V': 5, 'X': 10}"
            ]
          },
          "metadata": {
            "tags": []
          },
          "execution_count": 11
        }
      ]
    },
    {
      "cell_type": "code",
      "metadata": {
        "id": "b1es1m0PoCjB",
        "colab_type": "code",
        "outputId": "aa0d7079-eade-4487-9e4e-709f0cc4566a",
        "colab": {
          "base_uri": "https://localhost:8080/",
          "height": 34
        }
      },
      "source": [
        "numeros_romanos.pop('X')"
      ],
      "execution_count": 12,
      "outputs": [
        {
          "output_type": "execute_result",
          "data": {
            "text/plain": [
              "10"
            ]
          },
          "metadata": {
            "tags": []
          },
          "execution_count": 12
        }
      ]
    },
    {
      "cell_type": "code",
      "metadata": {
        "id": "aIMWoNPQoMvB",
        "colab_type": "code",
        "outputId": "9f931c7d-1171-4f63-bee1-229c787110f9",
        "colab": {
          "base_uri": "https://localhost:8080/",
          "height": 34
        }
      },
      "source": [
        "#remover un par llave/valor\n",
        "del numeros_romanos['III']\n",
        "numeros_romanos"
      ],
      "execution_count": 13,
      "outputs": [
        {
          "output_type": "execute_result",
          "data": {
            "text/plain": [
              "{'I': 1, 'II': 2, 'L': 50, 'V': 5}"
            ]
          },
          "metadata": {
            "tags": []
          },
          "execution_count": 13
        }
      ]
    },
    {
      "cell_type": "code",
      "metadata": {
        "id": "d7Eg0zGxonnF",
        "colab_type": "code",
        "outputId": "931c486a-f6ee-44e6-b51c-6026eec4879c",
        "colab": {
          "base_uri": "https://localhost:8080/",
          "height": 34
        }
      },
      "source": [
        "#acceder a una llave que no existe\n",
        "numeros_romanos.get('III')\n",
        "numeros_romanos.get('III','III no se encuentra en el diccionario')"
      ],
      "execution_count": 14,
      "outputs": [
        {
          "output_type": "execute_result",
          "data": {
            "text/plain": [
              "'III no se encuentra en el diccionario'"
            ]
          },
          "metadata": {
            "tags": []
          },
          "execution_count": 14
        }
      ]
    },
    {
      "cell_type": "code",
      "metadata": {
        "id": "wZHNoLn9rCIK",
        "colab_type": "code",
        "outputId": "b284270d-4e4e-49b6-f146-b6c590589316",
        "colab": {
          "base_uri": "https://localhost:8080/",
          "height": 34
        }
      },
      "source": [
        "'I' in numeros_romanos"
      ],
      "execution_count": 15,
      "outputs": [
        {
          "output_type": "execute_result",
          "data": {
            "text/plain": [
              "True"
            ]
          },
          "metadata": {
            "tags": []
          },
          "execution_count": 15
        }
      ]
    },
    {
      "cell_type": "code",
      "metadata": {
        "id": "EoOJRSaBrLZa",
        "colab_type": "code",
        "outputId": "f441c33b-a01b-44e9-b382-c1fe21e9d0b3",
        "colab": {
          "base_uri": "https://localhost:8080/",
          "height": 34
        }
      },
      "source": [
        "'II' in numeros_romanos"
      ],
      "execution_count": 16,
      "outputs": [
        {
          "output_type": "execute_result",
          "data": {
            "text/plain": [
              "True"
            ]
          },
          "metadata": {
            "tags": []
          },
          "execution_count": 16
        }
      ]
    },
    {
      "cell_type": "code",
      "metadata": {
        "id": "W0b-Zl31rMPy",
        "colab_type": "code",
        "outputId": "3b489429-77ce-4674-b05b-38abfe0e3058",
        "colab": {
          "base_uri": "https://localhost:8080/",
          "height": 34
        }
      },
      "source": [
        "\n",
        "'III' in numeros_romanos"
      ],
      "execution_count": 17,
      "outputs": [
        {
          "output_type": "execute_result",
          "data": {
            "text/plain": [
              "False"
            ]
          },
          "metadata": {
            "tags": []
          },
          "execution_count": 17
        }
      ]
    },
    {
      "cell_type": "markdown",
      "metadata": {
        "id": "qhDGEaHprU7J",
        "colab_type": "text"
      },
      "source": [
        "# Tarea 02\n",
        "\n",
        "###*  Crear un diccionaria \"Numeros Binarios\" con 5 llaves \"1\",\"2\",\"4\",\"5\",\"10\" y sus respectivos valores\n",
        "###*  insertar una llave \"3\" con su valor \n",
        "###*  remover 5 y obtener su valor\n",
        "### *   verificar si la llave \"9 Existe\"\n",
        "\n",
        "\n"
      ]
    },
    {
      "cell_type": "code",
      "metadata": {
        "id": "L9UeslV7snqb",
        "colab_type": "code",
        "outputId": "f63c40c7-f1ec-4571-e6b1-70ab42294ffd",
        "colab": {
          "base_uri": "https://localhost:8080/",
          "height": 34
        }
      },
      "source": [
        "Numeros_Binarios={\"1\":'1',\"2\":'10',\"4\":'100',\"5\":'101',\"10\":'1010'}\n",
        "Numeros_Binarios"
      ],
      "execution_count": 18,
      "outputs": [
        {
          "output_type": "execute_result",
          "data": {
            "text/plain": [
              "{'1': '1', '10': '1010', '2': '10', '4': '100', '5': '101'}"
            ]
          },
          "metadata": {
            "tags": []
          },
          "execution_count": 18
        }
      ]
    },
    {
      "cell_type": "code",
      "metadata": {
        "id": "Yw42xnJVtG3s",
        "colab_type": "code",
        "outputId": "88c65dd8-dc66-49e2-e27a-c3719b71098e",
        "colab": {
          "base_uri": "https://localhost:8080/",
          "height": 34
        }
      },
      "source": [
        "Numeros_Binarios['3']=11\n",
        "Numeros_Binarios"
      ],
      "execution_count": 19,
      "outputs": [
        {
          "output_type": "execute_result",
          "data": {
            "text/plain": [
              "{'1': '1', '10': '1010', '2': '10', '3': 11, '4': '100', '5': '101'}"
            ]
          },
          "metadata": {
            "tags": []
          },
          "execution_count": 19
        }
      ]
    },
    {
      "cell_type": "code",
      "metadata": {
        "id": "D_gBKURBtZm7",
        "colab_type": "code",
        "outputId": "01adcf0f-06fd-4b9b-ccd0-92c3507bff31",
        "colab": {
          "base_uri": "https://localhost:8080/",
          "height": 34
        }
      },
      "source": [
        "Numeros_Binarios.pop('5')"
      ],
      "execution_count": 20,
      "outputs": [
        {
          "output_type": "execute_result",
          "data": {
            "text/plain": [
              "'101'"
            ]
          },
          "metadata": {
            "tags": []
          },
          "execution_count": 20
        }
      ]
    },
    {
      "cell_type": "code",
      "metadata": {
        "id": "8r7NLooiti01",
        "colab_type": "code",
        "outputId": "939439b2-01f3-42da-c7f1-e665fd378c7d",
        "colab": {
          "base_uri": "https://localhost:8080/",
          "height": 34
        }
      },
      "source": [
        "'9' in Numeros_Binarios"
      ],
      "execution_count": 24,
      "outputs": [
        {
          "output_type": "execute_result",
          "data": {
            "text/plain": [
              "False"
            ]
          },
          "metadata": {
            "tags": []
          },
          "execution_count": 24
        }
      ]
    },
    {
      "cell_type": "code",
      "metadata": {
        "id": "9asd-4RjOroF",
        "colab_type": "code",
        "colab": {
          "base_uri": "https://localhost:8080/",
          "height": 34
        },
        "outputId": "501aebf8-d419-445e-f1ff-3ff16e32d2b7"
      },
      "source": [
        "Numeros_Binarios.get('9','9 no se encuentra en el diccionario')"
      ],
      "execution_count": 25,
      "outputs": [
        {
          "output_type": "execute_result",
          "data": {
            "text/plain": [
              "'9 no se encuentra en el diccionario'"
            ]
          },
          "metadata": {
            "tags": []
          },
          "execution_count": 25
        }
      ]
    },
    {
      "cell_type": "markdown",
      "metadata": {
        "id": "PuKfJDgiuzLy",
        "colab_type": "text"
      },
      "source": [
        "# Tarea 03\n",
        "\n",
        "Promedio de Susana es: 92.33\n",
        "\n",
        "Promedio de Eduardo es: 85.67\n",
        "\n",
        "Promedio de Ariel es:  87.33 \n",
        "\n",
        "Promedio de Pedro es: 93.33 \n",
        "\n",
        "Promedio del Salon es: 89.67 "
      ]
    },
    {
      "cell_type": "code",
      "metadata": {
        "id": "6jHCyApDvdBB",
        "colab_type": "code",
        "outputId": "45a5815e-a634-4504-ea1e-4500a0e0ca7f",
        "colab": {
          "base_uri": "https://localhost:8080/",
          "height": 136
        }
      },
      "source": [
        "LibrodeNotas = {\n",
        "    'Susana':[92,85,100],\n",
        "    'Eduardo':[83,95,79],\n",
        "    'Ariel':[91,89,82],\n",
        "    'Pedro':[97,91,92],\n",
        "}\n",
        "\n",
        "TodaslasNotasTotales=0\n",
        "ContadordeNotas=0\n",
        "\n",
        "for nombre, notas, in LibrodeNotas.items():\n",
        "  #[Codifique]obtener la suma de las notas\n",
        "  #total=\n",
        "  total=sum(notas)\n",
        "  #print(\"\\n\")\n",
        " # print(f'La suma de notas de {nombre} es de: {total}')\n",
        "  \n",
        "  print(f'Promedio de {nombre} es { total / len(notas):.2f}')\n",
        "  #[Codifique]obtener la suma total\n",
        "  #TodasLasNotasTotales=\n",
        "  TodaslasNotasTotales+=total\n",
        "    \n",
        "  #[Codifique] obtener contador\n",
        "  #ContadordeNotas=\n",
        "  ContadordeNotas+=len(notas)\n",
        "  \n",
        "print(\"\\n\")   \n",
        "print(f\"El promedio del salos es: {TodaslasNotasTotales/ContadordeNotas:.2f}\")"
      ],
      "execution_count": 36,
      "outputs": [
        {
          "output_type": "stream",
          "text": [
            "Promedio de Susana es 92.33\n",
            "Promedio de Eduardo es 85.67\n",
            "Promedio de Ariel es 87.33\n",
            "Promedio de Pedro es 93.33\n",
            "\n",
            "\n",
            "El promedio del salos es: 89.67\n"
          ],
          "name": "stdout"
        }
      ]
    }
  ]
}