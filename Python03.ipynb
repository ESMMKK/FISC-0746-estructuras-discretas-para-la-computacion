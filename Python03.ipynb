{
  "nbformat": 4,
  "nbformat_minor": 0,
  "metadata": {
    "colab": {
      "name": "Python03.ipynb",
      "version": "0.3.2",
      "provenance": []
    },
    "kernelspec": {
      "name": "python3",
      "display_name": "Python 3"
    }
  },
  "cells": [
    {
      "metadata": {
        "id": "GyZZ3CjsPOMv",
        "colab_type": "text"
      },
      "cell_type": "markdown",
      "source": [
        "##Estructuras Discretas\n",
        "##Edgar Martin"
      ]
    },
    {
      "metadata": {
        "id": "kjjwBGcOPqV0",
        "colab_type": "code",
        "outputId": "f9cd43f6-c69b-43a8-802a-aabc5f6be4c6",
        "colab": {
          "base_uri": "https://localhost:8080/",
          "height": 34
        }
      },
      "cell_type": "code",
      "source": [
        "x=12\n",
        "if x>10:\n",
        "    print(\"Buenos Dias\")"
      ],
      "execution_count": 5,
      "outputs": [
        {
          "output_type": "stream",
          "text": [
            "Buenos Dias\n"
          ],
          "name": "stdout"
        }
      ]
    },
    {
      "metadata": {
        "id": "kR7iz9r-RH9q",
        "colab_type": "code",
        "colab": {
          "base_uri": "https://localhost:8080/",
          "height": 34
        },
        "outputId": "296ff839-6a5d-402f-a3e8-7420f8eaa6a7"
      },
      "cell_type": "code",
      "source": [
        "x=12\n",
        "if x>13:\n",
        "    print(\"Buenos Dias\")\n",
        "else:\n",
        "    print(\"Buenas Tardes\")"
      ],
      "execution_count": 6,
      "outputs": [
        {
          "output_type": "stream",
          "text": [
            "Buenas Tardes\n"
          ],
          "name": "stdout"
        }
      ]
    },
    {
      "metadata": {
        "id": "sJBjz4ylRUOq",
        "colab_type": "code",
        "colab": {
          "base_uri": "https://localhost:8080/",
          "height": 34
        },
        "outputId": "0147dd50-c7e2-4a15-e6b8-5547e3825c12"
      },
      "cell_type": "code",
      "source": [
        "x=10\n",
        "y=12\n",
        "if x>y:\n",
        "  print(\"x>y\")\n",
        "elif x < y:\n",
        "    print(\"x<y\")\n",
        "else:\n",
        "  print(\"x=y\")\n",
        "  "
      ],
      "execution_count": 8,
      "outputs": [
        {
          "output_type": "stream",
          "text": [
            "x<y\n"
          ],
          "name": "stdout"
        }
      ]
    },
    {
      "metadata": {
        "id": "o0jIaS0BR1Jz",
        "colab_type": "code",
        "colab": {
          "base_uri": "https://localhost:8080/",
          "height": 51
        },
        "outputId": "306d7636-a844-46f9-cca2-b46b8cee870d"
      },
      "cell_type": "code",
      "source": [
        "x=10\n",
        "y=12\n",
        "if x>y:\n",
        "  print(\"x>y\")\n",
        "elif x < y:\n",
        "    print(\"x<y\")\n",
        "    if x==10:\n",
        "      print(\"x=10\")\n",
        "    else:\n",
        "      print(\"invalid\")\n",
        "else:\n",
        "  print(\"x=y\")"
      ],
      "execution_count": 11,
      "outputs": [
        {
          "output_type": "stream",
          "text": [
            "x<y\n",
            "x=10\n"
          ],
          "name": "stdout"
        }
      ]
    },
    {
      "metadata": {
        "id": "jWiKkUanR1Dy",
        "colab_type": "code",
        "colab": {
          "base_uri": "https://localhost:8080/",
          "height": 102
        },
        "outputId": "a1fa3f73-eab5-424d-cc9f-998225a296c7"
      },
      "cell_type": "code",
      "source": [
        "for i in range(5):\n",
        "  print(i+1)"
      ],
      "execution_count": 17,
      "outputs": [
        {
          "output_type": "stream",
          "text": [
            "1\n",
            "2\n",
            "3\n",
            "4\n",
            "5\n"
          ],
          "name": "stdout"
        }
      ]
    },
    {
      "metadata": {
        "id": "4bzV3rSjUIJr",
        "colab_type": "code",
        "colab": {
          "base_uri": "https://localhost:8080/",
          "height": 68
        },
        "outputId": "51f9df37-4396-4829-aa94-493499a07cff"
      },
      "cell_type": "code",
      "source": [
        "list_of_list=[[1,2,3],[4,5,6],[7,8,9]]\n",
        "for list1 in list_of_list:\n",
        "  print(list1)"
      ],
      "execution_count": 32,
      "outputs": [
        {
          "output_type": "stream",
          "text": [
            "[1, 2, 3]\n",
            "[4, 5, 6]\n",
            "[7, 8, 9]\n"
          ],
          "name": "stdout"
        }
      ]
    },
    {
      "metadata": {
        "id": "fvn6pq7TVBqz",
        "colab_type": "code",
        "colab": {
          "base_uri": "https://localhost:8080/",
          "height": 170
        },
        "outputId": "7e27b4d3-7f53-40ad-b9e1-b0150ceb8418"
      },
      "cell_type": "code",
      "source": [
        "list_of_list=[[1,2,3],[4,5,6],[7,8,9]]\n",
        "for list1 in list_of_list:\n",
        "  for x in list1:\n",
        "    print(x)"
      ],
      "execution_count": 34,
      "outputs": [
        {
          "output_type": "stream",
          "text": [
            "1\n",
            "2\n",
            "3\n",
            "4\n",
            "5\n",
            "6\n",
            "7\n",
            "8\n",
            "9\n"
          ],
          "name": "stdout"
        }
      ]
    },
    {
      "metadata": {
        "id": "9rj_H9DwXBD7",
        "colab_type": "code",
        "colab": {
          "base_uri": "https://localhost:8080/",
          "height": 68
        },
        "outputId": "bd659274-e561-4f6b-d0fb-b04aab84965f"
      },
      "cell_type": "code",
      "source": [
        "list_of_list=[[1,2,3],[4,5,6],[7,8,9]]\n",
        "for list1 in reversed (list_of_list):\n",
        "  print(list1)"
      ],
      "execution_count": 36,
      "outputs": [
        {
          "output_type": "stream",
          "text": [
            "[7, 8, 9]\n",
            "[4, 5, 6]\n",
            "[1, 2, 3]\n"
          ],
          "name": "stdout"
        }
      ]
    },
    {
      "metadata": {
        "id": "P8_awbQfXKnb",
        "colab_type": "code",
        "colab": {
          "base_uri": "https://localhost:8080/",
          "height": 68
        },
        "outputId": "cc9050a0-1a5f-45b0-e5dc-7bc78cf1d7a8"
      },
      "cell_type": "code",
      "source": [
        "i=1\n",
        "while i<3:\n",
        "  print(i**2)\n",
        "  i=i+1\n",
        "print(\"Adios\")"
      ],
      "execution_count": 40,
      "outputs": [
        {
          "output_type": "stream",
          "text": [
            "1\n",
            "4\n",
            "Adios\n"
          ],
          "name": "stdout"
        }
      ]
    },
    {
      "metadata": {
        "id": "149Oo4nAXw3c",
        "colab_type": "code",
        "colab": {
          "base_uri": "https://localhost:8080/",
          "height": 153
        },
        "outputId": "ee0322d0-acd0-4c3b-e4f5-be6ecff4172e"
      },
      "cell_type": "code",
      "source": [
        "for i in range(100):\n",
        "  print(i)\n",
        "  if i>=7:\n",
        "    break"
      ],
      "execution_count": 41,
      "outputs": [
        {
          "output_type": "stream",
          "text": [
            "0\n",
            "1\n",
            "2\n",
            "3\n",
            "4\n",
            "5\n",
            "6\n",
            "7\n"
          ],
          "name": "stdout"
        }
      ]
    },
    {
      "metadata": {
        "id": "HiqTxMiMY4-B",
        "colab_type": "code",
        "colab": {
          "base_uri": "https://localhost:8080/",
          "height": 187
        },
        "outputId": "6d7ec352-10d4-4b53-d8d0-ec8797faabf5"
      },
      "cell_type": "code",
      "source": [
        "for i in range(10):\n",
        "  if i>4:\n",
        "    print(\"The Endgame\")\n",
        "    continue\n",
        "  elif i<7:\n",
        "    print(i)"
      ],
      "execution_count": 42,
      "outputs": [
        {
          "output_type": "stream",
          "text": [
            "0\n",
            "1\n",
            "2\n",
            "3\n",
            "4\n",
            "The Endgame\n",
            "The Endgame\n",
            "The Endgame\n",
            "The Endgame\n",
            "The Endgame\n"
          ],
          "name": "stdout"
        }
      ]
    },
    {
      "metadata": {
        "id": "df_a4qM7ZWFj",
        "colab_type": "code",
        "colab": {
          "base_uri": "https://localhost:8080/",
          "height": 51
        },
        "outputId": "7c7d9de1-9034-4d11-f7ca-1644671d31ee"
      },
      "cell_type": "code",
      "source": [
        "res=[]\n",
        "for i in range(1,11):\n",
        "  x=27*i\n",
        "  res.append(x)\n",
        "print(res)\n",
        "\n",
        "for i in range(1,11):\n",
        "  x=27*i\n",
        "print(x)"
      ],
      "execution_count": 45,
      "outputs": [
        {
          "output_type": "stream",
          "text": [
            "[27, 54, 81, 108, 135, 162, 189, 216, 243, 270]\n",
            "270\n"
          ],
          "name": "stdout"
        }
      ]
    },
    {
      "metadata": {
        "id": "eAlp6xP-aTZa",
        "colab_type": "code",
        "colab": {
          "base_uri": "https://localhost:8080/",
          "height": 34
        },
        "outputId": "b1819c62-9371-4a86-b65d-d69f425fe22f"
      },
      "cell_type": "code",
      "source": [
        "[27*x for x in range(1,20) if x<=10]"
      ],
      "execution_count": 46,
      "outputs": [
        {
          "output_type": "execute_result",
          "data": {
            "text/plain": [
              "[27, 54, 81, 108, 135, 162, 189, 216, 243, 270]"
            ]
          },
          "metadata": {
            "tags": []
          },
          "execution_count": 46
        }
      ]
    },
    {
      "metadata": {
        "id": "bVgrGrvYa_TL",
        "colab_type": "code",
        "colab": {
          "base_uri": "https://localhost:8080/",
          "height": 51
        },
        "outputId": "1ba04298-904c-48ff-fc9e-29e863e15821"
      },
      "cell_type": "code",
      "source": [
        "#Establecer el numero que divide\n",
        "dividir=5\n",
        "\n",
        "#Dos listas\n",
        "bajos = []; altos=[]\n",
        "\n",
        "# dividir las listas\n",
        "for i in range(10):\n",
        "  if(i <dividir):\n",
        "    bajos.append(i)\n",
        "  else:\n",
        "    altos.append(i)\n",
        "print(\"bajos:\", bajos)\n",
        "print(\"altos:\", altos)"
      ],
      "execution_count": 47,
      "outputs": [
        {
          "output_type": "stream",
          "text": [
            "bajos: [0, 1, 2, 3, 4]\n",
            "altos: [5, 6, 7, 8, 9]\n"
          ],
          "name": "stdout"
        }
      ]
    }
  ]
}