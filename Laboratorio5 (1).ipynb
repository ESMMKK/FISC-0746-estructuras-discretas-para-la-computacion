{
  "nbformat": 4,
  "nbformat_minor": 0,
  "metadata": {
    "colab": {
      "name": "Laboratorio5.ipynb",
      "version": "0.3.2",
      "provenance": []
    },
    "kernelspec": {
      "name": "python3",
      "display_name": "Python 3"
    }
  },
  "cells": [
    {
      "cell_type": "markdown",
      "metadata": {
        "id": "rENJaedNhPmP",
        "colab_type": "text"
      },
      "source": [
        "# **Laboratorio 5**\n",
        "## Factorial\n"
      ]
    },
    {
      "cell_type": "code",
      "metadata": {
        "id": "2VJsunS6hkkB",
        "colab_type": "code",
        "colab": {}
      },
      "source": [
        "def factorial(n):\n",
        "  if n > 1:\n",
        "    return n * factorial(n-1)\n",
        "  else:\n",
        "    return 1"
      ],
      "execution_count": 0,
      "outputs": []
    },
    {
      "cell_type": "code",
      "metadata": {
        "id": "gwCvNRGriM9F",
        "colab_type": "code",
        "colab": {
          "base_uri": "https://localhost:8080/",
          "height": 34
        },
        "outputId": "dbc5b3ce-abc3-4039-d378-a162e8507ff7"
      },
      "source": [
        "factorial(3)"
      ],
      "execution_count": 9,
      "outputs": [
        {
          "output_type": "execute_result",
          "data": {
            "text/plain": [
              "6"
            ]
          },
          "metadata": {
            "tags": []
          },
          "execution_count": 9
        }
      ]
    },
    {
      "cell_type": "code",
      "metadata": {
        "id": "MP5A3FF9imUV",
        "colab_type": "code",
        "colab": {
          "base_uri": "https://localhost:8080/",
          "height": 34
        },
        "outputId": "2a912028-53f7-4258-daf9-83d7c5c77fdf"
      },
      "source": [
        "from math import factorial\n",
        "factorial(3)"
      ],
      "execution_count": 10,
      "outputs": [
        {
          "output_type": "execute_result",
          "data": {
            "text/plain": [
              "6"
            ]
          },
          "metadata": {
            "tags": []
          },
          "execution_count": 10
        }
      ]
    },
    {
      "cell_type": "markdown",
      "metadata": {
        "id": "2Gw3pFbvip1U",
        "colab_type": "text"
      },
      "source": [
        "# **Combinaciones**"
      ]
    },
    {
      "cell_type": "code",
      "metadata": {
        "id": "L1sMThruitLm",
        "colab_type": "code",
        "colab": {
          "base_uri": "https://localhost:8080/",
          "height": 34
        },
        "outputId": "87f11367-6cdc-4ad3-da8b-06b6f1574f0e"
      },
      "source": [
        "import itertools\n",
        "list(itertools.combinations(range(3),2))"
      ],
      "execution_count": 12,
      "outputs": [
        {
          "output_type": "execute_result",
          "data": {
            "text/plain": [
              "[(0, 1), (0, 2), (1, 2)]"
            ]
          },
          "metadata": {
            "tags": []
          },
          "execution_count": 12
        }
      ]
    },
    {
      "cell_type": "markdown",
      "metadata": {
        "id": "ULdz0WSyi-Tw",
        "colab_type": "text"
      },
      "source": [
        "# **Combinaciones con reemplazo**"
      ]
    },
    {
      "cell_type": "code",
      "metadata": {
        "id": "V4pSGrr6jB-5",
        "colab_type": "code",
        "colab": {
          "base_uri": "https://localhost:8080/",
          "height": 34
        },
        "outputId": "e0a09a6e-2dc9-4611-de81-7c33c4aebb24"
      },
      "source": [
        "list(itertools.combinations_with_replacement(range(3),2))"
      ],
      "execution_count": 13,
      "outputs": [
        {
          "output_type": "execute_result",
          "data": {
            "text/plain": [
              "[(0, 0), (0, 1), (0, 2), (1, 1), (1, 2), (2, 2)]"
            ]
          },
          "metadata": {
            "tags": []
          },
          "execution_count": 13
        }
      ]
    },
    {
      "cell_type": "markdown",
      "metadata": {
        "id": "76b-T0NpjFqD",
        "colab_type": "text"
      },
      "source": [
        "Dado un numero de elementos A,B, C, queremos extraer todas las posibles parejas de dos elementos, AA, AB, AC, etc"
      ]
    },
    {
      "cell_type": "code",
      "metadata": {
        "id": "nVBZ7miMjGhh",
        "colab_type": "code",
        "colab": {
          "base_uri": "https://localhost:8080/",
          "height": 170
        },
        "outputId": "2749d84f-e3ec-4964-dbdf-4a08b06bb639"
      },
      "source": [
        "c = itertools.product(('A', 'B', 'C'), repeat=2)\n",
        "list(c)"
      ],
      "execution_count": 14,
      "outputs": [
        {
          "output_type": "execute_result",
          "data": {
            "text/plain": [
              "[('A', 'A'),\n",
              " ('A', 'B'),\n",
              " ('A', 'C'),\n",
              " ('B', 'A'),\n",
              " ('B', 'B'),\n",
              " ('B', 'C'),\n",
              " ('C', 'A'),\n",
              " ('C', 'B'),\n",
              " ('C', 'C')]"
            ]
          },
          "metadata": {
            "tags": []
          },
          "execution_count": 14
        }
      ]
    },
    {
      "cell_type": "markdown",
      "metadata": {
        "id": "4rfQSsEUjKko",
        "colab_type": "text"
      },
      "source": [
        "# **Permutaciones**"
      ]
    },
    {
      "cell_type": "code",
      "metadata": {
        "id": "oEwjAOesjP3T",
        "colab_type": "code",
        "colab": {
          "base_uri": "https://localhost:8080/",
          "height": 34
        },
        "outputId": "b78fd5da-c0f0-4c83-b1fc-3c5957a22be2"
      },
      "source": [
        "c = itertools.permutations(('A', 'B', 'C'), 2)\n",
        "list(c)"
      ],
      "execution_count": 15,
      "outputs": [
        {
          "output_type": "execute_result",
          "data": {
            "text/plain": [
              "[('A', 'B'), ('A', 'C'), ('B', 'A'), ('B', 'C'), ('C', 'A'), ('C', 'B')]"
            ]
          },
          "metadata": {
            "tags": []
          },
          "execution_count": 15
        }
      ]
    },
    {
      "cell_type": "markdown",
      "metadata": {
        "id": "Sl5Ds6kejaNw",
        "colab_type": "text"
      },
      "source": [
        "# **Combinaciones**"
      ]
    },
    {
      "cell_type": "code",
      "metadata": {
        "id": "mshK8QuAjMlP",
        "colab_type": "code",
        "colab": {
          "base_uri": "https://localhost:8080/",
          "height": 34
        },
        "outputId": "7c7e5664-83e3-4114-dffa-eeedf9805386"
      },
      "source": [
        "c = itertools.combinations(('A', 'B', 'C'), 2)\n",
        "list(c)"
      ],
      "execution_count": 16,
      "outputs": [
        {
          "output_type": "execute_result",
          "data": {
            "text/plain": [
              "[('A', 'B'), ('A', 'C'), ('B', 'C')]"
            ]
          },
          "metadata": {
            "tags": []
          },
          "execution_count": 16
        }
      ]
    },
    {
      "cell_type": "markdown",
      "metadata": {
        "id": "63hisqltjgxX",
        "colab_type": "text"
      },
      "source": [
        "Tarea #2: Octavos de final de la Champions League 2019\n",
        "¿Cuales son los posibles combinaciones de partidos? ¿Cuantas combinaciones?\n",
        "\n",
        "Equipos finalistas: Porto, Roma, Man City, Schalke04, Bayern, Liverpool, Man U, PSG, Juventus, Atletico de Madrid, Barcelona, Lyon."
      ]
    },
    {
      "cell_type": "code",
      "metadata": {
        "id": "VVVNWzy9jhah",
        "colab_type": "code",
        "colab": {
          "base_uri": "https://localhost:8080/",
          "height": 1139
        },
        "outputId": "56627f11-f086-4617-946c-2e49ac390b21"
      },
      "source": [
        "c = itertools.combinations(('Porto', 'Roma', 'Manchester City', 'Schalke04', 'Bayern Munich', 'Liverpool', 'Manchester United', 'PSG', 'Juventus', 'Atletico de Madrid', 'Barcelona', 'Lyon'), 2)\n",
        "list(c)"
      ],
      "execution_count": 17,
      "outputs": [
        {
          "output_type": "execute_result",
          "data": {
            "text/plain": [
              "[('Porto', 'Roma'),\n",
              " ('Porto', 'Manchester City'),\n",
              " ('Porto', 'Schalke04'),\n",
              " ('Porto', 'Bayern Munich'),\n",
              " ('Porto', 'Liverpool'),\n",
              " ('Porto', 'Manchester United'),\n",
              " ('Porto', 'PSG'),\n",
              " ('Porto', 'Juventus'),\n",
              " ('Porto', 'Atletico de Madrid'),\n",
              " ('Porto', 'Barcelona'),\n",
              " ('Porto', 'Lyon'),\n",
              " ('Roma', 'Manchester City'),\n",
              " ('Roma', 'Schalke04'),\n",
              " ('Roma', 'Bayern Munich'),\n",
              " ('Roma', 'Liverpool'),\n",
              " ('Roma', 'Manchester United'),\n",
              " ('Roma', 'PSG'),\n",
              " ('Roma', 'Juventus'),\n",
              " ('Roma', 'Atletico de Madrid'),\n",
              " ('Roma', 'Barcelona'),\n",
              " ('Roma', 'Lyon'),\n",
              " ('Manchester City', 'Schalke04'),\n",
              " ('Manchester City', 'Bayern Munich'),\n",
              " ('Manchester City', 'Liverpool'),\n",
              " ('Manchester City', 'Manchester United'),\n",
              " ('Manchester City', 'PSG'),\n",
              " ('Manchester City', 'Juventus'),\n",
              " ('Manchester City', 'Atletico de Madrid'),\n",
              " ('Manchester City', 'Barcelona'),\n",
              " ('Manchester City', 'Lyon'),\n",
              " ('Schalke04', 'Bayern Munich'),\n",
              " ('Schalke04', 'Liverpool'),\n",
              " ('Schalke04', 'Manchester United'),\n",
              " ('Schalke04', 'PSG'),\n",
              " ('Schalke04', 'Juventus'),\n",
              " ('Schalke04', 'Atletico de Madrid'),\n",
              " ('Schalke04', 'Barcelona'),\n",
              " ('Schalke04', 'Lyon'),\n",
              " ('Bayern Munich', 'Liverpool'),\n",
              " ('Bayern Munich', 'Manchester United'),\n",
              " ('Bayern Munich', 'PSG'),\n",
              " ('Bayern Munich', 'Juventus'),\n",
              " ('Bayern Munich', 'Atletico de Madrid'),\n",
              " ('Bayern Munich', 'Barcelona'),\n",
              " ('Bayern Munich', 'Lyon'),\n",
              " ('Liverpool', 'Manchester United'),\n",
              " ('Liverpool', 'PSG'),\n",
              " ('Liverpool', 'Juventus'),\n",
              " ('Liverpool', 'Atletico de Madrid'),\n",
              " ('Liverpool', 'Barcelona'),\n",
              " ('Liverpool', 'Lyon'),\n",
              " ('Manchester United', 'PSG'),\n",
              " ('Manchester United', 'Juventus'),\n",
              " ('Manchester United', 'Atletico de Madrid'),\n",
              " ('Manchester United', 'Barcelona'),\n",
              " ('Manchester United', 'Lyon'),\n",
              " ('PSG', 'Juventus'),\n",
              " ('PSG', 'Atletico de Madrid'),\n",
              " ('PSG', 'Barcelona'),\n",
              " ('PSG', 'Lyon'),\n",
              " ('Juventus', 'Atletico de Madrid'),\n",
              " ('Juventus', 'Barcelona'),\n",
              " ('Juventus', 'Lyon'),\n",
              " ('Atletico de Madrid', 'Barcelona'),\n",
              " ('Atletico de Madrid', 'Lyon'),\n",
              " ('Barcelona', 'Lyon')]"
            ]
          },
          "metadata": {
            "tags": []
          },
          "execution_count": 17
        }
      ]
    },
    {
      "cell_type": "code",
      "metadata": {
        "id": "euC6XxE-jlJ1",
        "colab_type": "code",
        "colab": {
          "base_uri": "https://localhost:8080/",
          "height": 34
        },
        "outputId": "eae438df-891a-4ff0-d7d0-c26e81ea8720"
      },
      "source": [
        "len(list(itertools.combinations(('Porto', 'Roma', 'Manchester City', 'Schalke04', 'Bayern Munich', 'Liverpool', 'Manchester United', 'PSG', 'Juventus', 'Atletico de Madrid', 'Barcelona', 'Lyon'), 2)))"
      ],
      "execution_count": 18,
      "outputs": [
        {
          "output_type": "execute_result",
          "data": {
            "text/plain": [
              "66"
            ]
          },
          "metadata": {
            "tags": []
          },
          "execution_count": 18
        }
      ]
    }
  ]
}