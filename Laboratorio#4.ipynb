{
  "nbformat": 4,
  "nbformat_minor": 0,
  "metadata": {
    "colab": {
      "name": "Untitled1.ipynb",
      "version": "0.3.2",
      "provenance": []
    },
    "kernelspec": {
      "name": "python3",
      "display_name": "Python 3"
    }
  },
  "cells": [
    {
      "metadata": {
        "id": "l7AdvHBCPg1q",
        "colab_type": "text"
      },
      "cell_type": "markdown",
      "source": [
        "**LISTAS**"
      ]
    },
    {
      "metadata": {
        "id": "rVWVx5u-P8gY",
        "colab_type": "code",
        "colab": {}
      },
      "cell_type": "code",
      "source": [
        "c = [-45,6,0,72,1543]"
      ],
      "execution_count": 0,
      "outputs": []
    },
    {
      "metadata": {
        "id": "ViZMWOJ9QKBI",
        "colab_type": "code",
        "colab": {
          "base_uri": "https://localhost:8080/",
          "height": 34
        },
        "outputId": "28c4fada-5b5c-4967-d724-b7835f25d3cb"
      },
      "cell_type": "code",
      "source": [
        "print(c)"
      ],
      "execution_count": 6,
      "outputs": [
        {
          "output_type": "stream",
          "text": [
            "[-45, 6, 0, 72, 1543]\n"
          ],
          "name": "stdout"
        }
      ]
    },
    {
      "metadata": {
        "id": "5o6Cq7eAQUN5",
        "colab_type": "code",
        "colab": {
          "base_uri": "https://localhost:8080/",
          "height": 34
        },
        "outputId": "52bb5abd-c64f-4fea-96d7-fb7aa64137a3"
      },
      "cell_type": "code",
      "source": [
        "c[0]"
      ],
      "execution_count": 7,
      "outputs": [
        {
          "output_type": "execute_result",
          "data": {
            "text/plain": [
              "-45"
            ]
          },
          "metadata": {
            "tags": []
          },
          "execution_count": 7
        }
      ]
    },
    {
      "metadata": {
        "id": "Gc94BtghQihh",
        "colab_type": "code",
        "colab": {
          "base_uri": "https://localhost:8080/",
          "height": 34
        },
        "outputId": "79a8465e-dda3-4ba4-d14f-bac647e5b920"
      },
      "cell_type": "code",
      "source": [
        "len(c)"
      ],
      "execution_count": 9,
      "outputs": [
        {
          "output_type": "execute_result",
          "data": {
            "text/plain": [
              "5"
            ]
          },
          "metadata": {
            "tags": []
          },
          "execution_count": 9
        }
      ]
    },
    {
      "metadata": {
        "id": "JvPlm62eREDR",
        "colab_type": "code",
        "colab": {}
      },
      "cell_type": "code",
      "source": [
        "d=[-45, 6, 0, 72, 1543,89,56,56]"
      ],
      "execution_count": 0,
      "outputs": []
    },
    {
      "metadata": {
        "id": "1lrHgpx1RQGB",
        "colab_type": "code",
        "colab": {
          "base_uri": "https://localhost:8080/",
          "height": 34
        },
        "outputId": "375d90d3-c946-4b64-a133-fda984f43ce7"
      },
      "cell_type": "code",
      "source": [
        "d"
      ],
      "execution_count": 12,
      "outputs": [
        {
          "output_type": "execute_result",
          "data": {
            "text/plain": [
              "[-45, 6, 0, 72, 1543, 89, 56, 56]"
            ]
          },
          "metadata": {
            "tags": []
          },
          "execution_count": 12
        }
      ]
    },
    {
      "metadata": {
        "id": "Elzfd9XZRWCB",
        "colab_type": "code",
        "colab": {
          "base_uri": "https://localhost:8080/",
          "height": 34
        },
        "outputId": "18325425-e7d9-47dd-cb5c-72af6b45cdb8"
      },
      "cell_type": "code",
      "source": [
        "type(d)"
      ],
      "execution_count": 13,
      "outputs": [
        {
          "output_type": "execute_result",
          "data": {
            "text/plain": [
              "list"
            ]
          },
          "metadata": {
            "tags": []
          },
          "execution_count": 13
        }
      ]
    },
    {
      "metadata": {
        "id": "TBmcLAG9RrQJ",
        "colab_type": "code",
        "colab": {
          "base_uri": "https://localhost:8080/",
          "height": 34
        },
        "outputId": "76b917bc-9b01-4c1c-dc7d-eaaef4aa919c"
      },
      "cell_type": "code",
      "source": [
        "d[-1]"
      ],
      "execution_count": 14,
      "outputs": [
        {
          "output_type": "execute_result",
          "data": {
            "text/plain": [
              "56"
            ]
          },
          "metadata": {
            "tags": []
          },
          "execution_count": 14
        }
      ]
    },
    {
      "metadata": {
        "id": "uxdt16VqR8pp",
        "colab_type": "code",
        "colab": {
          "base_uri": "https://localhost:8080/",
          "height": 34
        },
        "outputId": "dbb44f52-1866-44a1-c313-f93726634955"
      },
      "cell_type": "code",
      "source": [
        "d[-5]"
      ],
      "execution_count": 15,
      "outputs": [
        {
          "output_type": "execute_result",
          "data": {
            "text/plain": [
              "72"
            ]
          },
          "metadata": {
            "tags": []
          },
          "execution_count": 15
        }
      ]
    },
    {
      "metadata": {
        "id": "xP0oomyLSAzB",
        "colab_type": "code",
        "colab": {}
      },
      "cell_type": "code",
      "source": [
        "a=1\n",
        "b=2"
      ],
      "execution_count": 0,
      "outputs": []
    },
    {
      "metadata": {
        "id": "4j1YeoBwSEtB",
        "colab_type": "code",
        "colab": {
          "base_uri": "https://localhost:8080/",
          "height": 35
        },
        "outputId": "f54a0f77-8f3e-4776-bed9-0133b8f2be9c"
      },
      "cell_type": "code",
      "source": [
        "c[a+b]"
      ],
      "execution_count": 17,
      "outputs": [
        {
          "output_type": "execute_result",
          "data": {
            "text/plain": [
              "72"
            ]
          },
          "metadata": {
            "tags": []
          },
          "execution_count": 17
        }
      ]
    },
    {
      "metadata": {
        "id": "dYHaDaaQStRp",
        "colab_type": "code",
        "colab": {}
      },
      "cell_type": "code",
      "source": [
        "notas=[91,99,89,63,79]"
      ],
      "execution_count": 0,
      "outputs": []
    },
    {
      "metadata": {
        "id": "CHzFYH-3TDi1",
        "colab_type": "code",
        "colab": {
          "base_uri": "https://localhost:8080/",
          "height": 35
        },
        "outputId": "216438b2-96a8-4d78-ae2d-26c41b80ac50"
      },
      "cell_type": "code",
      "source": [
        "sum(notas)"
      ],
      "execution_count": 26,
      "outputs": [
        {
          "output_type": "execute_result",
          "data": {
            "text/plain": [
              "421"
            ]
          },
          "metadata": {
            "tags": []
          },
          "execution_count": 26
        }
      ]
    },
    {
      "metadata": {
        "id": "rKGKYALFTQRh",
        "colab_type": "code",
        "colab": {
          "base_uri": "https://localhost:8080/",
          "height": 35
        },
        "outputId": "c22205cd-ce09-498c-8528-fb1900422cfe"
      },
      "cell_type": "code",
      "source": [
        "len(notas)"
      ],
      "execution_count": 27,
      "outputs": [
        {
          "output_type": "execute_result",
          "data": {
            "text/plain": [
              "5"
            ]
          },
          "metadata": {
            "tags": []
          },
          "execution_count": 27
        }
      ]
    },
    {
      "metadata": {
        "id": "GcI1B9UhTUbu",
        "colab_type": "code",
        "colab": {}
      },
      "cell_type": "code",
      "source": [
        "avg=sum(notas)/len(notas)"
      ],
      "execution_count": 0,
      "outputs": []
    },
    {
      "metadata": {
        "id": "XeH2VNNaTvwJ",
        "colab_type": "code",
        "colab": {
          "base_uri": "https://localhost:8080/",
          "height": 35
        },
        "outputId": "f80de062-ab86-4eaf-9e00-975c3389d0d1"
      },
      "cell_type": "code",
      "source": [
        "avg"
      ],
      "execution_count": 32,
      "outputs": [
        {
          "output_type": "execute_result",
          "data": {
            "text/plain": [
              "84.2"
            ]
          },
          "metadata": {
            "tags": []
          },
          "execution_count": 32
        }
      ]
    },
    {
      "metadata": {
        "id": "Qb_UNy88UMdi",
        "colab_type": "text"
      },
      "cell_type": "markdown",
      "source": [
        "**ASIGNACION**\n",
        "sumar todos los elementos de una lista utilizando for..."
      ]
    },
    {
      "metadata": {
        "id": "lQQPJq_JUTP5",
        "colab_type": "code",
        "colab": {}
      },
      "cell_type": "code",
      "source": [
        "x=[2,3,99]"
      ],
      "execution_count": 0,
      "outputs": []
    },
    {
      "metadata": {
        "id": "CJxNNNx-U4JJ",
        "colab_type": "code",
        "colab": {
          "base_uri": "https://localhost:8080/",
          "height": 69
        },
        "outputId": "64d6c64b-9a5f-4080-a0cf-c53b52f57801"
      },
      "cell_type": "code",
      "source": [
        "for i in x:\n",
        "  print(i)"
      ],
      "execution_count": 35,
      "outputs": [
        {
          "output_type": "stream",
          "text": [
            "2\n",
            "3\n",
            "99\n"
          ],
          "name": "stdout"
        }
      ]
    },
    {
      "metadata": {
        "id": "rl7Xp_YAWz-D",
        "colab_type": "code",
        "colab": {
          "base_uri": "https://localhost:8080/",
          "height": 35
        },
        "outputId": "1747627d-741c-4705-bd08-91f7bdd50071"
      },
      "cell_type": "code",
      "source": [
        "total=0\n",
        "for i in x:\n",
        "  total=total+i\n",
        "print(total) "
      ],
      "execution_count": 66,
      "outputs": [
        {
          "output_type": "stream",
          "text": [
            "104\n"
          ],
          "name": "stdout"
        }
      ]
    },
    {
      "metadata": {
        "id": "kMU40ZePabWZ",
        "colab_type": "text"
      },
      "cell_type": "markdown",
      "source": [
        "**PROMEDIO CON FOR**"
      ]
    },
    {
      "metadata": {
        "id": "7LyjhMfsXHxj",
        "colab_type": "code",
        "colab": {
          "base_uri": "https://localhost:8080/",
          "height": 35
        },
        "outputId": "9a6a93ac-4faa-43cc-9827-dd15cc4f56d4"
      },
      "cell_type": "code",
      "source": [
        "total=0\n",
        "prom=0\n",
        "for i in x:\n",
        "  total=total+i\n",
        "prom=total/len(x)\n",
        "print(prom) "
      ],
      "execution_count": 69,
      "outputs": [
        {
          "output_type": "stream",
          "text": [
            "34.666666666666664\n"
          ],
          "name": "stdout"
        }
      ]
    },
    {
      "metadata": {
        "id": "c8IQzr9Yatia",
        "colab_type": "code",
        "colab": {}
      },
      "cell_type": "code",
      "source": [
        "s='Hello'"
      ],
      "execution_count": 0,
      "outputs": []
    },
    {
      "metadata": {
        "id": "yFr0eLAha5NJ",
        "colab_type": "code",
        "colab": {
          "base_uri": "https://localhost:8080/",
          "height": 35
        },
        "outputId": "e0ea7971-e0b8-4a77-a916-d1d6ef96bb76"
      },
      "cell_type": "code",
      "source": [
        "s"
      ],
      "execution_count": 72,
      "outputs": [
        {
          "output_type": "execute_result",
          "data": {
            "text/plain": [
              "'Hello'"
            ]
          },
          "metadata": {
            "tags": []
          },
          "execution_count": 72
        }
      ]
    },
    {
      "metadata": {
        "id": "nQMxirEtbhzx",
        "colab_type": "code",
        "colab": {}
      },
      "cell_type": "code",
      "source": [
        "a_list=[]"
      ],
      "execution_count": 0,
      "outputs": []
    },
    {
      "metadata": {
        "id": "CbfoqP1NbqCh",
        "colab_type": "code",
        "colab": {}
      },
      "cell_type": "code",
      "source": [
        "for number in range(1,6):\n",
        "  a_list+=[number]"
      ],
      "execution_count": 0,
      "outputs": []
    },
    {
      "metadata": {
        "id": "3o2qQ7sgbyTT",
        "colab_type": "code",
        "colab": {
          "base_uri": "https://localhost:8080/",
          "height": 34
        },
        "outputId": "095126af-04ae-4c8c-82a8-a9b7dd393dce"
      },
      "cell_type": "code",
      "source": [
        "a_list"
      ],
      "execution_count": 79,
      "outputs": [
        {
          "output_type": "execute_result",
          "data": {
            "text/plain": [
              "[1, 2, 3, 4, 5]"
            ]
          },
          "metadata": {
            "tags": []
          },
          "execution_count": 79
        }
      ]
    },
    {
      "metadata": {
        "id": "Cyzb3fI5cwwZ",
        "colab_type": "text"
      },
      "cell_type": "markdown",
      "source": [
        "**ASIGNACION**\n",
        "La dra. Gabriela Gonzales es una profesora de botanica en la universidad de Panama. un dia, ella le pide a su estudiante Amanda computar el promedio de todas lsa plantas con altura distinta en el invernadero.\n",
        "\n",
        "Promedio=Suma de las alturas no repetidas / Numero total de alturas no repetidas\n",
        "10 ---\n",
        "161,182,161,154,176,170,167,171,170,174 ---\n",
        "169.375"
      ]
    },
    {
      "metadata": {
        "id": "bDcwbxnZdZ5Z",
        "colab_type": "code",
        "colab": {}
      },
      "cell_type": "code",
      "source": [
        "alt={161,182,161,154,176,170,167,171,170,174}"
      ],
      "execution_count": 0,
      "outputs": []
    },
    {
      "metadata": {
        "id": "Y8WQfF08d9lp",
        "colab_type": "code",
        "colab": {
          "base_uri": "https://localhost:8080/",
          "height": 34
        },
        "outputId": "aedc34a9-f999-46f9-f764-eb553af214ac"
      },
      "cell_type": "code",
      "source": [
        "prom=0\n",
        "altex=alt & alt\n",
        "prom=sum(altex)/len(altex)\n",
        "print(prom)"
      ],
      "execution_count": 89,
      "outputs": [
        {
          "output_type": "stream",
          "text": [
            "169.375\n"
          ],
          "name": "stdout"
        }
      ]
    }
  ]
}